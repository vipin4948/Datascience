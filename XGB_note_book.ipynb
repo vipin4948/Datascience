{
 "cells": [
  {
   "cell_type": "markdown",
   "id": "e0331ff4",
   "metadata": {},
   "source": [
    "# Supplement Sales Prediction"
   ]
  },
  {
   "cell_type": "markdown",
   "id": "00e10652",
   "metadata": {},
   "source": [
    "\n",
    "Your Client WOMart is a leading nutrition and supplement retail chain that offers a comprehensive range of products for all your wellness and fitness needs. \n",
    "\n",
    "WOMart follows a multi-channel distribution strategy with 350+ retail stores spread across 100+ cities. \n",
    "\n",
    "Effective forecasting for store sales gives essential insight into upcoming cash flow, meaning WOMart can more accurately plan the cashflow at the store level.\n",
    "\n",
    "Sales data for 18 months from 365 stores of WOMart is available along with information on Store Type, Location Type for each store, Region Code for every store, Discount provided by the store on every day, Number of Orders everyday etc.\n",
    "\n",
    "The Task is to predict the store sales for each store in the test set for the next two months."
   ]
  },
  {
   "cell_type": "markdown",
   "id": "29911043",
   "metadata": {},
   "source": [
    "# 1. Data Preparation"
   ]
  },
  {
   "cell_type": "markdown",
   "id": "1776766a",
   "metadata": {},
   "source": [
    "\n",
    "The dataset contain the two files in the csv format:\n",
    "\n",
    "TRAIN.csv : this file has 188340 rows and 10 columns.\n",
    "\n",
    "TEST_FINAL.csv : this file has 22265 rows and 8 columns.\n",
    "\n",
    "Variable : Definition\n",
    "\n",
    "ID : Unique Identifier for a row\n",
    "\n",
    "Store_id : Unique id for each Store\n",
    "\n",
    "Store_Type : Type of the Store\n",
    "\n",
    "Location_Type : Type of the location where Store is located\n",
    "\n",
    "Region_Code :Code of the Region where Store is located\n",
    "\n",
    "Date : Information about the Date\n",
    "\n",
    "Holiday : If there is holiday on the given Date, 1 : Yes, 0 : No\n",
    "\n",
    "Discount : If discount is offered by store on the given Date, Yes/ No\n",
    "\n",
    "Orders : Number of Orders received by the Store on the given Day\n",
    "    \n",
    "Sales : Total Sale for the Store on the given Day"
   ]
  },
  {
   "cell_type": "markdown",
   "id": "7b7261f1",
   "metadata": {},
   "source": [
    "Importing Neccessary libraries"
   ]
  },
  {
   "cell_type": "code",
   "execution_count": null,
   "id": "cecc8aee",
   "metadata": {},
   "outputs": [],
   "source": [
    "import pandas as pd\n",
    "import numpy as sns\n",
    "import seaborn as sns\n",
    "import matplotlib.pyplot as plt\n",
    "import plotly.express as px\n",
    "from plotly.subplots import make_subplots\n",
    "import plotly.graph_objects as go\n",
    "%matplotlib inline"
   ]
  },
  {
   "cell_type": "code",
   "execution_count": null,
   "id": "eb5a20c8",
   "metadata": {},
   "outputs": [],
   "source": [
    "plt.rcParams[\"figure.figsize\"] = (20, 10)"
   ]
  },
  {
   "cell_type": "markdown",
   "id": "1a4f50e1",
   "metadata": {},
   "source": [
    "Loading csv files to dataframe"
   ]
  },
  {
   "cell_type": "code",
   "execution_count": null,
   "id": "1999bbcc",
   "metadata": {},
   "outputs": [],
   "source": [
    "df_train= pd.read_csv('TRAIN.csv')\n",
    "df_test = pd.read_csv('TEST_FINAL.csv')"
   ]
  },
  {
   "cell_type": "markdown",
   "id": "e5c54cdf",
   "metadata": {},
   "source": [
    "checking for missing values and data types in training set"
   ]
  },
  {
   "cell_type": "code",
   "execution_count": null,
   "id": "786b2b90",
   "metadata": {},
   "outputs": [],
   "source": [
    "df_train.info()"
   ]
  },
  {
   "cell_type": "code",
   "execution_count": null,
   "id": "ce49377d",
   "metadata": {},
   "outputs": [],
   "source": [
    "df_train.isnull().sum()"
   ]
  },
  {
   "cell_type": "markdown",
   "id": "ae0cc479",
   "metadata": {},
   "source": [
    "- No missing values.Data set looks clean\n",
    "- Date need to be converted into Date time instead of object"
   ]
  },
  {
   "cell_type": "markdown",
   "id": "785dc7e6",
   "metadata": {},
   "source": [
    "Checking for missing values and data types in test data set"
   ]
  },
  {
   "cell_type": "code",
   "execution_count": null,
   "id": "e80f2cd2",
   "metadata": {},
   "outputs": [],
   "source": [
    "df_test.info()"
   ]
  },
  {
   "cell_type": "code",
   "execution_count": null,
   "id": "d7592116",
   "metadata": {},
   "outputs": [],
   "source": [
    "df_test.isnull().sum()"
   ]
  },
  {
   "cell_type": "markdown",
   "id": "da4a77ed",
   "metadata": {},
   "source": [
    "- NO missing values found and data set look clean. order catergory is not in test data set\n",
    "-Date need to be converted into Date time instead of object"
   ]
  },
  {
   "cell_type": "markdown",
   "id": "9dba6617",
   "metadata": {},
   "source": [
    "First look of the train data set"
   ]
  },
  {
   "cell_type": "code",
   "execution_count": null,
   "id": "f4112f81",
   "metadata": {},
   "outputs": [],
   "source": [
    "df_train.head()"
   ]
  },
  {
   "cell_type": "markdown",
   "id": "f0734bd0",
   "metadata": {},
   "source": [
    "First look of the test data set"
   ]
  },
  {
   "cell_type": "code",
   "execution_count": null,
   "id": "da201260",
   "metadata": {},
   "outputs": [],
   "source": [
    "df_test.head()"
   ]
  },
  {
   "cell_type": "markdown",
   "id": "d7ab63a8",
   "metadata": {},
   "source": [
    "Before we change anything in the original Dataframe, we create a copy"
   ]
  },
  {
   "cell_type": "code",
   "execution_count": null,
   "id": "cdde1e19",
   "metadata": {},
   "outputs": [],
   "source": [
    "EDA_train = df_train.copy()\n",
    "EDA_test = df_test.copy()"
   ]
  },
  {
   "cell_type": "code",
   "execution_count": null,
   "id": "2dc40d94",
   "metadata": {},
   "outputs": [],
   "source": []
  },
  {
   "cell_type": "markdown",
   "id": "38a1ce12",
   "metadata": {},
   "source": [
    "# 2. Exploratory Data Analysis"
   ]
  },
  {
   "cell_type": "markdown",
   "id": "2aabbe6d",
   "metadata": {},
   "source": [
    "Before we starting to explority data analysis we need to convert Date column object as  Date time"
   ]
  },
  {
   "cell_type": "code",
   "execution_count": null,
   "id": "bb53fcee",
   "metadata": {},
   "outputs": [],
   "source": [
    "EDA_train[\"Date\"]=  pd.to_datetime(EDA_train[\"Date\"])"
   ]
  },
  {
   "cell_type": "code",
   "execution_count": null,
   "id": "8da0f3be",
   "metadata": {},
   "outputs": [],
   "source": [
    "EDA_train.head()"
   ]
  },
  {
   "cell_type": "code",
   "execution_count": null,
   "id": "591567a7",
   "metadata": {},
   "outputs": [],
   "source": [
    "EDA_train.info()"
   ]
  },
  {
   "cell_type": "markdown",
   "id": "925b5407",
   "metadata": {},
   "source": [
    "The Date object converted to Date time.Repeating the same step for test data set"
   ]
  },
  {
   "cell_type": "code",
   "execution_count": null,
   "id": "de3dd9ba",
   "metadata": {},
   "outputs": [],
   "source": [
    "EDA_test[\"Date\"]=  pd.to_datetime(EDA_test[\"Date\"])"
   ]
  },
  {
   "cell_type": "code",
   "execution_count": null,
   "id": "97edbf51",
   "metadata": {},
   "outputs": [],
   "source": [
    "EDA_test.info()"
   ]
  },
  {
   "cell_type": "code",
   "execution_count": null,
   "id": "a79e72fe",
   "metadata": {},
   "outputs": [],
   "source": [
    "EDA_test.head()"
   ]
  },
  {
   "cell_type": "code",
   "execution_count": null,
   "id": "cc8d9c79",
   "metadata": {},
   "outputs": [],
   "source": [
    "EDA_train['Sales'].describe()"
   ]
  },
  {
   "cell_type": "markdown",
   "id": "a2b511f7",
   "metadata": {},
   "source": [
    "Judging by the mean and maximum values of sales, there are some outliers.\n",
    "We need to keep this in mind and will exclude them for our first visualisations"
   ]
  },
  {
   "cell_type": "markdown",
   "id": "ee56a91e",
   "metadata": {},
   "source": [
    "Question: How many shops and products do we have? "
   ]
  },
  {
   "cell_type": "code",
   "execution_count": null,
   "id": "aa4c72e8",
   "metadata": {},
   "outputs": [],
   "source": [
    "EDA_train.nunique()"
   ]
  },
  {
   "cell_type": "markdown",
   "id": "135a703f",
   "metadata": {},
   "source": [
    "-We have 365 stores in train data set, 4 store types distributed among in 5 location types with 4 Region codes"
   ]
  },
  {
   "cell_type": "code",
   "execution_count": null,
   "id": "30770af4",
   "metadata": {},
   "outputs": [],
   "source": [
    "EDA_test.nunique()"
   ]
  },
  {
   "cell_type": "markdown",
   "id": "b9502345",
   "metadata": {},
   "source": [
    "-Need to check any corelation between #orders and sales"
   ]
  },
  {
   "cell_type": "code",
   "execution_count": null,
   "id": "1d3e6289",
   "metadata": {},
   "outputs": [],
   "source": [
    "correlation = EDA_train['#Order'].corr(EDA_train['Sales'])\n",
    "print(\"Correlation between oder and sales:\",correlation)\n",
    "sns.scatterplot(x=EDA_train['#Order'],y=EDA_train['Sales'])"
   ]
  },
  {
   "cell_type": "markdown",
   "id": "7f0fe323",
   "metadata": {},
   "source": [
    "There a postive correlation between sales and orders .so only considering sales figure from onwards for Exploratorty Data Analysis"
   ]
  },
  {
   "cell_type": "markdown",
   "id": "428ac312",
   "metadata": {},
   "source": [
    "-We have 365 stores in test data set, 4 store types distributed among in 5 location types with 4 Region codes"
   ]
  },
  {
   "cell_type": "markdown",
   "id": "ff854bfd",
   "metadata": {},
   "source": [
    "What is our target?\n",
    "-We want to predict the number of items sold for test data .\n",
    "Let's go ahead and take a closer look at the items.\n"
   ]
  },
  {
   "cell_type": "markdown",
   "id": "8ff131f2",
   "metadata": {},
   "source": [
    "Finding how many stores for each category of store types"
   ]
  },
  {
   "cell_type": "markdown",
   "id": "a4ce862e",
   "metadata": {},
   "source": [
    "## Store Types"
   ]
  },
  {
   "cell_type": "code",
   "execution_count": null,
   "id": "8f021c58",
   "metadata": {},
   "outputs": [],
   "source": [
    "typecounts = EDA_train.Store_Type.value_counts().to_dict()\n",
    "EDA_train_store_types = pd.DataFrame(list(typecounts.items()), columns=['Store_Type', 'Counts'])\n",
    "EDA_train_store_types.sort_values(by='Counts',inplace=True,ascending=False)\n",
    "EDA_train_store_types"
   ]
  },
  {
   "cell_type": "code",
   "execution_count": null,
   "id": "c36a5816",
   "metadata": {},
   "outputs": [],
   "source": [
    "#plotting figure of each store types as pie chart"
   ]
  },
  {
   "cell_type": "code",
   "execution_count": null,
   "id": "fb8728cc",
   "metadata": {},
   "outputs": [],
   "source": [
    "fig = px.pie(EDA_train_store_types, values='Counts', names='Store_Type',\n",
    "             title='Popularity of Store Types',labels='Store_Type')\n",
    "fig.update_traces(textposition='inside', textinfo='percent+label')\n",
    "fig.show()"
   ]
  },
  {
   "cell_type": "markdown",
   "id": "95e4910f",
   "metadata": {},
   "source": [
    "- S1 have large number of store counts,then S4\n",
    "- Lets find out the average sales of Each sales by box plot"
   ]
  },
  {
   "cell_type": "code",
   "execution_count": null,
   "id": "40ca8102",
   "metadata": {},
   "outputs": [],
   "source": [
    "\n",
    "EDA_train.boxplot(by ='Store_Type', column =['Sales'])"
   ]
  },
  {
   "cell_type": "markdown",
   "id": "fe31622c",
   "metadata": {},
   "source": [
    "- it is shown s4 have more average sales than s1\n",
    "- having a lagre number og outliers.need to check these Outliers have any significance in data\n",
    "- The number of stores doesn't have much importance in sales\n",
    "- to verify this let's check it with order number by plotting box plot\n"
   ]
  },
  {
   "cell_type": "code",
   "execution_count": null,
   "id": "7c3be8ef",
   "metadata": {},
   "outputs": [],
   "source": [
    "EDA_train.boxplot(by ='Store_Type', column =['#Order'])"
   ]
  },
  {
   "cell_type": "markdown",
   "id": "17cbfe33",
   "metadata": {},
   "source": [
    "- As previsoly mentioned the orders and sales have a strong correlation the sales and orders show same type of plots"
   ]
  },
  {
   "cell_type": "markdown",
   "id": "8236f993",
   "metadata": {},
   "source": [
    "Finding average sales of Each stores"
   ]
  },
  {
   "cell_type": "code",
   "execution_count": null,
   "id": "9ad92c63",
   "metadata": {},
   "outputs": [],
   "source": [
    "avg_sales = EDA_train.groupby('Store_Type')['Sales'].mean().to_dict()\n",
    "EDA_Train_avg_sales_storetype = pd.DataFrame(list(avg_sales.items()), columns=['Store_Type', 'AvgSales'])\n",
    "\n",
    "EDA_Train_avg_sales_storetype "
   ]
  },
  {
   "cell_type": "code",
   "execution_count": null,
   "id": "af6b9a52",
   "metadata": {},
   "outputs": [],
   "source": [
    "fig = px.bar(EDA_Train_avg_sales_storetype, \n",
    "             x=\"Store_Type\", \n",
    "             y=\"AvgSales\",  \n",
    "             title=\"Averge Sales - Per Store\",\n",
    "             color_discrete_sequence=[\"#DC143C\"], template='plotly_dark')\n",
    "fig.show()\n"
   ]
  },
  {
   "cell_type": "markdown",
   "id": "c8378a31",
   "metadata": {},
   "source": [
    "- s4 and s3 have high average sales"
   ]
  },
  {
   "cell_type": "code",
   "execution_count": null,
   "id": "a2bb9c21",
   "metadata": {},
   "outputs": [],
   "source": []
  },
  {
   "cell_type": "markdown",
   "id": "4f85747d",
   "metadata": {},
   "source": [
    "## EDA on Location types"
   ]
  },
  {
   "cell_type": "code",
   "execution_count": null,
   "id": "ad8cbdf9",
   "metadata": {},
   "outputs": [],
   "source": [
    "location_counts = EDA_train.Location_Type.value_counts().to_dict()\n",
    "EDA_train_location_counts = pd.DataFrame(list(location_counts.items()), columns=['Location_Type', 'Counts'])\n"
   ]
  },
  {
   "cell_type": "code",
   "execution_count": null,
   "id": "6b958cef",
   "metadata": {},
   "outputs": [],
   "source": [
    "fig = px.pie(EDA_train_location_counts, values='Counts', names='Location_Type',\n",
    "             title='Popularity of location Types',labels='location_Type')\n",
    "fig.update_traces(textposition='inside', textinfo='percent+label')\n",
    "fig.show()"
   ]
  },
  {
   "cell_type": "markdown",
   "id": "49882ac8",
   "metadata": {},
   "source": [
    "- L1 and L2 location have High number of stores"
   ]
  },
  {
   "cell_type": "code",
   "execution_count": null,
   "id": "4e67066b",
   "metadata": {},
   "outputs": [],
   "source": [
    "EDA_train.boxplot(by ='Location_Type', column =['Sales'])"
   ]
  },
  {
   "cell_type": "code",
   "execution_count": null,
   "id": "8dd11fc0",
   "metadata": {},
   "outputs": [],
   "source": [
    "avg_sales_Location = EDA_train.groupby('Location_Type')['Sales'].mean().to_dict()\n",
    "EDA_Train_avg_sales_Locationtype = pd.DataFrame(list(avg_sales_Location.items()), columns=['Location_Type', 'AvgSales'])\n",
    "\n",
    "EDA_Train_avg_sales_Locationtype"
   ]
  },
  {
   "cell_type": "code",
   "execution_count": null,
   "id": "802ee07c",
   "metadata": {},
   "outputs": [],
   "source": [
    "fig = px.bar(EDA_Train_avg_sales_Locationtype, \n",
    "             x=\"Location_Type\", \n",
    "             y=\"AvgSales\",  \n",
    "             title=\"Averge Sales - Per Location\",\n",
    "             color_discrete_sequence=[\"#DC143C\"], template='plotly_dark')\n",
    "fig.show()"
   ]
  },
  {
   "cell_type": "markdown",
   "id": "3eee01e8",
   "metadata": {},
   "source": [
    "- Location Types also effect the average sales "
   ]
  },
  {
   "cell_type": "markdown",
   "id": "8334ee27",
   "metadata": {},
   "source": [
    "# EDA on Regions types"
   ]
  },
  {
   "cell_type": "code",
   "execution_count": null,
   "id": "a930f6fc",
   "metadata": {},
   "outputs": [],
   "source": [
    "region_counts = EDA_train.Region_Code.value_counts().to_dict()\n",
    "EDA_train_region_counts = pd.DataFrame(list(region_counts.items()), columns=['Region_Type', 'Counts'])\n",
    "\n",
    "fig = px.pie(EDA_train_region_counts, values='Counts', names='Region_Type',\n",
    "             title='Popularity of Region Types',labels='Region_Type')\n",
    "fig.update_traces(textposition='inside', textinfo='percent+label')\n",
    "fig.show()"
   ]
  },
  {
   "cell_type": "code",
   "execution_count": null,
   "id": "4e9678cb",
   "metadata": {},
   "outputs": [],
   "source": [
    "EDA_train.boxplot(by ='Region_Code', column =['Sales'])"
   ]
  },
  {
   "cell_type": "code",
   "execution_count": null,
   "id": "e401629f",
   "metadata": {},
   "outputs": [],
   "source": [
    "avg_sales_Region= EDA_train.groupby('Region_Code')['Sales'].mean().to_dict()\n",
    "EDA_Train_avg_sales_Region_code = pd.DataFrame(list(avg_sales_Region.items()), columns=['Region_Code', 'AvgSales'])\n",
    "\n",
    "EDA_Train_avg_sales_Region_code"
   ]
  },
  {
   "cell_type": "code",
   "execution_count": null,
   "id": "a0be80bb",
   "metadata": {},
   "outputs": [],
   "source": [
    "fig = px.bar(EDA_Train_avg_sales_Region_code, \n",
    "             x=\"Region_Code\", \n",
    "             y=\"AvgSales\",  \n",
    "             title=\"Averge Sales - Per Regions\",\n",
    "             color_discrete_sequence=[\"#DC143C\"], template='plotly_dark')\n",
    "fig.show()"
   ]
  },
  {
   "cell_type": "markdown",
   "id": "dc2b6dd0",
   "metadata": {},
   "source": [
    "- Regions also a dependent feature on sales numbers"
   ]
  },
  {
   "cell_type": "markdown",
   "id": "15656b1e",
   "metadata": {},
   "source": [
    "# EDA on Discount"
   ]
  },
  {
   "cell_type": "markdown",
   "id": "03d9c0ae",
   "metadata": {},
   "source": [
    "To find How Giving Discount Effect"
   ]
  },
  {
   "cell_type": "code",
   "execution_count": null,
   "id": "bc7a41a3",
   "metadata": {},
   "outputs": [],
   "source": []
  },
  {
   "cell_type": "code",
   "execution_count": null,
   "id": "dae5fece",
   "metadata": {},
   "outputs": [],
   "source": [
    "from plotly.subplots import make_subplots\n",
    "import plotly.graph_objects as go\n",
    "\n",
    "Discount_sales = EDA_train.groupby('Discount')['Sales'].mean()\n",
    "Discount_counts = EDA_train.Holiday.value_counts()\n",
    "\n",
    "print(Discount_sales)\n",
    "print(Discount_counts)"
   ]
  },
  {
   "cell_type": "code",
   "execution_count": null,
   "id": "19114e64",
   "metadata": {},
   "outputs": [],
   "source": [
    "fig = make_subplots(rows=1, cols=2, subplot_titles=(\"Mean Discount Sales Amount\", \"Discount Given Days\"))\n",
    "\n",
    "fig.add_trace(go.Bar(x=Discount_sales.values, y=Discount_sales.index, orientation='h',),1, 1)\n",
    "\n",
    "fig.add_trace(go.Bar(x=Discount_sales.values, y=Discount_sales.index, orientation='h',),1, 2)\n",
    "\n",
    "fig.update_layout(coloraxis=dict(colorscale='Bluered_r'), template='plotly_dark', showlegend=False)\n",
    "fig.show()"
   ]
  },
  {
   "cell_type": "markdown",
   "id": "e7c64e49",
   "metadata": {},
   "source": [
    "- Discounted Days gives higher number of sales"
   ]
  },
  {
   "cell_type": "markdown",
   "id": "305e7edf",
   "metadata": {},
   "source": [
    "plotting line plot to find the same"
   ]
  },
  {
   "cell_type": "code",
   "execution_count": null,
   "id": "a9049b7e",
   "metadata": {},
   "outputs": [],
   "source": [
    "sns.lineplot(data=EDA_train, x=\"Date\", y=(EDA_train['Sales']),hue='Discount')"
   ]
  },
  {
   "cell_type": "markdown",
   "id": "6d76ec72",
   "metadata": {},
   "source": [
    "- Discount given days have higher sales figure"
   ]
  },
  {
   "cell_type": "markdown",
   "id": "99bdf2b3",
   "metadata": {},
   "source": [
    "# EDA on Holiday"
   ]
  },
  {
   "cell_type": "code",
   "execution_count": null,
   "id": "7b6ca086",
   "metadata": {},
   "outputs": [],
   "source": [
    "from plotly.subplots import make_subplots\n",
    "import plotly.graph_objects as go\n",
    "\n",
    "holiday_sales = EDA_train.groupby('Holiday')['Sales'].mean()\n",
    "holiday_counts = EDA_train.Holiday.value_counts()\n",
    "\n",
    "print(holiday_sales)\n",
    "print(holiday_counts)"
   ]
  },
  {
   "cell_type": "code",
   "execution_count": null,
   "id": "ac8852dd",
   "metadata": {},
   "outputs": [],
   "source": [
    "holiday_sales.dtypes"
   ]
  },
  {
   "cell_type": "code",
   "execution_count": null,
   "id": "eba05e78",
   "metadata": {},
   "outputs": [],
   "source": [
    "EDA_Train_avg_sales_holidays = pd.DataFrame(list(holiday_sales.items()), columns=['Holidays', 'AvgSales'])\n",
    "\n",
    "EDA_Train_avg_sales_holidays"
   ]
  },
  {
   "cell_type": "code",
   "execution_count": null,
   "id": "fa8bbc3b",
   "metadata": {},
   "outputs": [],
   "source": [
    "EDA_Train_avg_sales_holidays['Holidays'] = EDA_Train_avg_sales_holidays['Holidays'].map(\n",
    "                   {True:'Yes',False:'No'})"
   ]
  },
  {
   "cell_type": "code",
   "execution_count": null,
   "id": "398f8f8e",
   "metadata": {},
   "outputs": [],
   "source": [
    "EDA_Train_avg_sales_holidays"
   ]
  },
  {
   "cell_type": "code",
   "execution_count": null,
   "id": "dd581897",
   "metadata": {},
   "outputs": [],
   "source": [
    "EDA_Train_holidays_count = pd.DataFrame(list(holiday_counts.items()), columns=['Holidays', 'No of Hoildays'])\n",
    "\n",
    "EDA_Train_holidays_count"
   ]
  },
  {
   "cell_type": "code",
   "execution_count": null,
   "id": "54adf23a",
   "metadata": {},
   "outputs": [],
   "source": [
    "EDA_Train_holidays_count['Holidays'] =EDA_Train_holidays_count['Holidays'].map(\n",
    "                   {True:'Yes' ,False:'No'})\n",
    "EDA_Train_holidays_count"
   ]
  },
  {
   "cell_type": "code",
   "execution_count": null,
   "id": "9fd4c33c",
   "metadata": {},
   "outputs": [],
   "source": [
    "fig = make_subplots(rows=1, cols=2, subplot_titles=(\"Holidays/Nonholidays Sales\", \"Holidays/Nonholidays Counts\"))\n",
    "\n",
    "fig.add_trace(go.Bar(x=EDA_Train_avg_sales_holidays['AvgSales'], y=EDA_Train_avg_sales_holidays['Holidays'], orientation='h',),1, 1)\n",
    "\n",
    "fig.add_trace(go.Bar(x=EDA_Train_holidays_count['No of Hoildays'], y=EDA_Train_holidays_count['Holidays'], orientation='h',),1, 2)\n",
    "\n",
    "fig.update_layout(coloraxis=dict(colorscale='Bluered_r'), template='plotly_dark', showlegend=False)\n",
    "fig.show()"
   ]
  },
  {
   "cell_type": "markdown",
   "id": "6a442ea6",
   "metadata": {},
   "source": [
    "- HOlidays have also having sales number."
   ]
  },
  {
   "cell_type": "markdown",
   "id": "a668a73f",
   "metadata": {},
   "source": [
    "plotting line plot of mean average sales with hue as Hoilday "
   ]
  },
  {
   "cell_type": "code",
   "execution_count": null,
   "id": "1114d010",
   "metadata": {},
   "outputs": [],
   "source": [
    "sns.lineplot(data=EDA_train, x=\"Date\", y=(EDA_train['Sales']),hue='Holiday')"
   ]
  },
  {
   "cell_type": "markdown",
   "id": "321000a0",
   "metadata": {},
   "source": [
    "- Hoilday have higher effect in sales number\n",
    "- some hoildays have steep decline in sales numbers.need to find out how manys days have sales below a threshold value"
   ]
  },
  {
   "cell_type": "markdown",
   "id": "d222abeb",
   "metadata": {},
   "source": [
    "# Checking Outliers in sales figure"
   ]
  },
  {
   "cell_type": "markdown",
   "id": "a3e46c2f",
   "metadata": {},
   "source": [
    "setting a threshold as 20000 as sales figure..exploring values below"
   ]
  },
  {
   "cell_type": "code",
   "execution_count": null,
   "id": "b616d1d6",
   "metadata": {},
   "outputs": [],
   "source": [
    "EDA_train[EDA_train['Sales'] <= 20000 ]"
   ]
  },
  {
   "cell_type": "markdown",
   "id": "31fcaa47",
   "metadata": {},
   "source": [
    "ploting the sales figure hue holiday"
   ]
  },
  {
   "cell_type": "code",
   "execution_count": null,
   "id": "78e35b8f",
   "metadata": {},
   "outputs": [],
   "source": [
    "sns.lineplot(data=EDA_train[EDA_train['Sales'] < 20000 ], x=\"Date\", y=(EDA_train['Sales']),hue='Holiday')"
   ]
  },
  {
   "cell_type": "markdown",
   "id": "b7590b39",
   "metadata": {},
   "source": [
    "ploting the sales figure hue Discount"
   ]
  },
  {
   "cell_type": "code",
   "execution_count": null,
   "id": "9d4aa6d4",
   "metadata": {},
   "outputs": [],
   "source": [
    "sns.lineplot(data=EDA_train[EDA_train['Sales'] < 20000 ], x=\"Date\", y=(EDA_train['Sales']),hue='Discount')"
   ]
  },
  {
   "cell_type": "markdown",
   "id": "5798dc1e",
   "metadata": {},
   "source": [
    "By checking both the figure it is found that there are some outliers in data which gives low sales in some days."
   ]
  },
  {
   "cell_type": "markdown",
   "id": "fd314cae",
   "metadata": {},
   "source": [
    " checking data for zero sales"
   ]
  },
  {
   "cell_type": "code",
   "execution_count": null,
   "id": "96b1b65d",
   "metadata": {},
   "outputs": [],
   "source": [
    "EDA_train[EDA_train['Sales'] == 0]"
   ]
  },
  {
   "cell_type": "markdown",
   "id": "86030d1c",
   "metadata": {},
   "source": [
    "some days only giving zero sales.later decide whether data need to removed or not."
   ]
  },
  {
   "cell_type": "markdown",
   "id": "6dd6d8ed",
   "metadata": {},
   "source": [
    "# Insights from EDA"
   ]
  },
  {
   "cell_type": "markdown",
   "id": "2b819d34",
   "metadata": {},
   "source": [
    "\n",
    "- No missing values.Data set looks clean\n",
    "- There a postive correlation between sales and orders.so droping order doesn't need to consider while traning(Also order numbers are not in test set)\n",
    "- ID can be removed since there is no relation between sales \n",
    "- Location type,Region,Store type have different sales figure.considerd for training\n",
    "- Holiday and Discounthave effect in sales number.Considered for training\n",
    "- Removing outliers in sales number considerd after training the model if desired accuaracy is not achieved\n"
   ]
  },
  {
   "cell_type": "markdown",
   "id": "8cd313c3",
   "metadata": {},
   "source": [
    "# 3.Data Preparation for Model Training"
   ]
  },
  {
   "cell_type": "markdown",
   "id": "dc686df2",
   "metadata": {},
   "source": [
    "Following steps will be performed for preparing the data for the subsequent model training\n",
    "\n",
    "- Based on the Exploratory Data Analysis and Coorelation study, the columns with weak relationship with the target column will be dropped\n",
    "- Input and Target dataframes will be created\n",
    "- Need to split datetime object into day,year,month for both test and train\n",
    "- Label encoding methods applied to categorical columns\n",
    "- Training and Validation datasets will be created\n",
    "- A function will be defined based on which the models performance will be measured"
   ]
  },
  {
   "cell_type": "code",
   "execution_count": null,
   "id": "b69eedae",
   "metadata": {},
   "outputs": [],
   "source": [
    "EDA_train.head()"
   ]
  },
  {
   "cell_type": "code",
   "execution_count": null,
   "id": "87ecdbcf",
   "metadata": {},
   "outputs": [],
   "source": [
    "EDA_test.head()"
   ]
  },
  {
   "cell_type": "markdown",
   "id": "a7bb467d",
   "metadata": {},
   "source": [
    "- Creating copy of both train and test set for Data prepration and model training"
   ]
  },
  {
   "cell_type": "code",
   "execution_count": null,
   "id": "1d7773ed",
   "metadata": {},
   "outputs": [],
   "source": [
    "FE_train = EDA_train.copy()"
   ]
  },
  {
   "cell_type": "code",
   "execution_count": null,
   "id": "7be1a319",
   "metadata": {},
   "outputs": [],
   "source": [
    "FE_test = EDA_test.copy()"
   ]
  },
  {
   "cell_type": "code",
   "execution_count": null,
   "id": "87d43d34",
   "metadata": {},
   "outputs": [],
   "source": [
    "FE_train.head()"
   ]
  },
  {
   "cell_type": "code",
   "execution_count": null,
   "id": "bb044a06",
   "metadata": {},
   "outputs": [],
   "source": [
    "FE_test.head()"
   ]
  },
  {
   "cell_type": "markdown",
   "id": "97ca247e",
   "metadata": {},
   "source": [
    " - creating new column Day,month and year"
   ]
  },
  {
   "cell_type": "code",
   "execution_count": null,
   "id": "760470f0",
   "metadata": {},
   "outputs": [],
   "source": [
    "FE_train['Year'] = FE_train['Date'].dt.year\n",
    "FE_train['Day'] = FE_train['Date'].dt.day\n",
    "FE_train['Month'] = FE_train['Date'].dt.month\n"
   ]
  },
  {
   "cell_type": "code",
   "execution_count": null,
   "id": "0de7e81d",
   "metadata": {},
   "outputs": [],
   "source": [
    "FE_train.head()"
   ]
  },
  {
   "cell_type": "markdown",
   "id": "e7f9e0c2",
   "metadata": {},
   "source": [
    "Droping ID,Date,'#Order' for train test set"
   ]
  },
  {
   "cell_type": "code",
   "execution_count": null,
   "id": "5966562a",
   "metadata": {},
   "outputs": [],
   "source": [
    "FE_train_2 = FE_train.drop(['#Order','Date'],axis=1)"
   ]
  },
  {
   "cell_type": "code",
   "execution_count": null,
   "id": "fa3e536c",
   "metadata": {},
   "outputs": [],
   "source": [
    "FE_train_2.head()"
   ]
  },
  {
   "cell_type": "markdown",
   "id": "cd5aeb41",
   "metadata": {},
   "source": [
    "- Checking data types of FE_train_2"
   ]
  },
  {
   "cell_type": "code",
   "execution_count": null,
   "id": "99c9f443",
   "metadata": {},
   "outputs": [],
   "source": [
    "FE_train_2.dtypes"
   ]
  },
  {
   "cell_type": "markdown",
   "id": "3bea379c",
   "metadata": {},
   "source": [
    "Repeat the same step for test set"
   ]
  },
  {
   "cell_type": "code",
   "execution_count": null,
   "id": "e9bf577f",
   "metadata": {},
   "outputs": [],
   "source": [
    "FE_test['Year'] = FE_test['Date'].dt.year\n",
    "FE_test['Day'] = FE_test['Date'].dt.day\n",
    "FE_test['Month'] = FE_test['Date'].dt.month"
   ]
  },
  {
   "cell_type": "code",
   "execution_count": null,
   "id": "a1d20967",
   "metadata": {},
   "outputs": [],
   "source": [
    "FE_test.head()"
   ]
  },
  {
   "cell_type": "markdown",
   "id": "6c631424",
   "metadata": {},
   "source": [
    "- Droping ID,Date for test set"
   ]
  },
  {
   "cell_type": "code",
   "execution_count": null,
   "id": "24874351",
   "metadata": {},
   "outputs": [],
   "source": [
    "FE_test_2 = FE_test.drop(['Date'],axis=1)"
   ]
  },
  {
   "cell_type": "code",
   "execution_count": null,
   "id": "d4a777eb",
   "metadata": {},
   "outputs": [],
   "source": [
    "FE_test_2.head()"
   ]
  },
  {
   "cell_type": "code",
   "execution_count": null,
   "id": "7cee7bc7",
   "metadata": {},
   "outputs": [],
   "source": [
    "FE_test_2.dtypes"
   ]
  },
  {
   "cell_type": "markdown",
   "id": "732369b1",
   "metadata": {},
   "source": [
    "# 3.1 Encoding"
   ]
  },
  {
   "cell_type": "code",
   "execution_count": null,
   "id": "62713ac1",
   "metadata": {},
   "outputs": [],
   "source": [
    "from xgboost import XGBRegressor\n",
    "from sklearn import ensemble\n",
    "from sklearn.preprocessing import QuantileTransformer\n",
    "from sklearn.preprocessing import MinMaxScaler\n",
    "from sklearn.preprocessing import LabelEncoder\n",
    "from sklearn.model_selection import train_test_split\n",
    "from sklearn.pipeline import Pipeline\n"
   ]
  },
  {
   "cell_type": "code",
   "execution_count": null,
   "id": "2a43e77d",
   "metadata": {},
   "outputs": [],
   "source": [
    "encoder = LabelEncoder()"
   ]
  },
  {
   "cell_type": "markdown",
   "id": "c275d2ad",
   "metadata": {},
   "source": [
    "- creating copy of test and train dataset for Encoding"
   ]
  },
  {
   "cell_type": "code",
   "execution_count": null,
   "id": "7fbbb74b",
   "metadata": {},
   "outputs": [],
   "source": [
    "EC_train = FE_train_2.copy()"
   ]
  },
  {
   "cell_type": "code",
   "execution_count": null,
   "id": "da19fd71",
   "metadata": {},
   "outputs": [],
   "source": [
    "EC_train.columns"
   ]
  },
  {
   "cell_type": "code",
   "execution_count": null,
   "id": "851d0e12",
   "metadata": {},
   "outputs": [],
   "source": [
    "EC_train.head()"
   ]
  },
  {
   "cell_type": "code",
   "execution_count": null,
   "id": "e3b0a7b5",
   "metadata": {},
   "outputs": [],
   "source": [
    "EC_test = FE_test_2.copy()"
   ]
  },
  {
   "cell_type": "code",
   "execution_count": null,
   "id": "35ef7c72",
   "metadata": {},
   "outputs": [],
   "source": [
    "EC_test.head()"
   ]
  },
  {
   "cell_type": "code",
   "execution_count": null,
   "id": "978981b8",
   "metadata": {},
   "outputs": [],
   "source": []
  },
  {
   "cell_type": "code",
   "execution_count": null,
   "id": "8d264ff3",
   "metadata": {},
   "outputs": [],
   "source": [
    "for i in EC_train.columns: \n",
    "    if EC_train[i].dtype == 'object': \n",
    "        encoder.fit_transform(list(EC_train[i].values)) #To Fit transform\n",
    "        EC_train[i] = encoder.transform(EC_train[i].values) # TO fit Transform\n",
    "         \n",
    "        for j in EC_train.columns: \n",
    "            if EC_train[j].dtype == 'int':\n",
    "                EC_train[j] = EC_train[j].astype('float64') #To Change the type\n",
    "\n",
    "for k in EC_test.columns: \n",
    "    if EC_test[k].dtype == 'object': \n",
    "        encoder.fit_transform(list(EC_test[k].values)) #To Fit transform\n",
    "        EC_test[k] = encoder.transform(EC_test[k].values) #FTO Transform\n",
    "         \n",
    "        for m in EC_test.columns: \n",
    "            if EC_test[m].dtype == 'int':\n",
    "                EC_test[m] = EC_test[m].astype('float64')"
   ]
  },
  {
   "cell_type": "code",
   "execution_count": null,
   "id": "e3b7d171",
   "metadata": {},
   "outputs": [],
   "source": [
    "EC_test.head()"
   ]
  },
  {
   "cell_type": "markdown",
   "id": "d143e182",
   "metadata": {},
   "source": [
    "- Splitting X and y"
   ]
  },
  {
   "cell_type": "code",
   "execution_count": null,
   "id": "e9c013e9",
   "metadata": {},
   "outputs": [],
   "source": [
    "X = EC_train.drop(columns=['ID', 'Sales']) # Data X\n",
    "y = EC_train['Sales'] # Data y     \n",
    "X_test = EC_test.drop(columns=['ID'])"
   ]
  },
  {
   "cell_type": "code",
   "execution_count": null,
   "id": "bd0eb135",
   "metadata": {},
   "outputs": [],
   "source": [
    "X_train, X_cv, y_train, y_cv = train_test_split(\n",
    "    X, y,test_size=0.3, \n",
    "    random_state=42)"
   ]
  },
  {
   "cell_type": "markdown",
   "id": "3274396f",
   "metadata": {},
   "source": [
    "# 3.2 PipelIne and training Data"
   ]
  },
  {
   "cell_type": "code",
   "execution_count": null,
   "id": "a6502df4",
   "metadata": {},
   "outputs": [],
   "source": [
    "pipeline_XGB = Pipeline([ # Our Pipeline\n",
    "    ('scaler', MinMaxScaler()),\n",
    "    ('transformer', QuantileTransformer()),\n",
    "    ('model', XGBRegressor(\n",
    "        learning_rate=0.2,\n",
    "        n_estimators=10000,\n",
    "        random_state=42,\n",
    "        objective='reg:squarederror',\n",
    "        booster='gbtree'\n",
    "    ))\n",
    "])\n",
    "\n",
    "pipeline_XGB.fit(X_train, y_train) # Train Data"
   ]
  },
  {
   "cell_type": "code",
   "execution_count": null,
   "id": "2a32c265",
   "metadata": {},
   "outputs": [],
   "source": [
    "from sklearn import metrics\n",
    "import math"
   ]
  },
  {
   "cell_type": "code",
   "execution_count": null,
   "id": "dd471341",
   "metadata": {},
   "outputs": [],
   "source": [
    "XGB_pred_train = pipeline_XGB.predict(X_train) # Predict Train Data\n",
    "XGB_pred_cv = pipeline_XGB.predict(X_cv) # Predict Valid Data"
   ]
  },
  {
   "cell_type": "code",
   "execution_count": null,
   "id": "782b1b15",
   "metadata": {},
   "outputs": [],
   "source": [
    "Train_r2_score = metrics.r2_score(y_train, XGB_pred_train) # R2_score\n",
    "print(f'Train R2_score: {Train_r2_score }')\n",
    "\n",
    "Train_mse = metrics.mean_squared_error(y_train, XGB_pred_train) # MSE Score\n",
    "print(f'Train MSE : {Train_mse}')\n",
    "\n",
    "Train_RMSE = math.sqrt(metrics.mean_squared_error(y_train,XGB_pred_train)) # SQRT MSE Score\n",
    "print(f'Train RMSE : {Train_RMSE}')"
   ]
  },
  {
   "cell_type": "code",
   "execution_count": null,
   "id": "c09e4344",
   "metadata": {},
   "outputs": [],
   "source": [
    "train = pd.DataFrame(\n",
    "    {'Predicted Sales':XGB_pred_train, 'Actual Sales':y_train}\n",
    ")\n",
    "\n",
    "fig= plt.figure(\n",
    "    figsize=(16, 9)\n",
    ")\n",
    "\n",
    "train = train.reset_index()\n",
    "train = train.drop(\n",
    "    ['index'],axis=1\n",
    ")\n",
    "\n",
    "plt.plot(train[:50])\n",
    "plt.legend(['Actual Sales','Predicted Sales'])\n",
    "plt.title('Actual & Predicted Sales')\n",
    "plt.show()"
   ]
  },
  {
   "cell_type": "markdown",
   "id": "e665d055",
   "metadata": {},
   "source": [
    "# Evaluate Test Data"
   ]
  },
  {
   "cell_type": "code",
   "execution_count": null,
   "id": "22865f58",
   "metadata": {},
   "outputs": [],
   "source": [
    "Test_r2_score = metrics.r2_score(y_cv, XGB_pred_cv) # R2_score\n",
    "print(f'Test R2_score: {Test_r2_score}')\n",
    "\n",
    "Test_mse = metrics.mean_squared_error(y_cv, XGB_pred_cv) # MSE Score\n",
    "print(f'Test MSE : {Test_mse}')\n",
    "\n",
    "Test_RMSE = math.sqrt(metrics.mean_squared_error(y_cv, XGB_pred_cv)) # SQRT MSE Score\n",
    "print(f'Test RMSE : {Test_RMSE}')"
   ]
  },
  {
   "cell_type": "code",
   "execution_count": null,
   "id": "e42d5fe8",
   "metadata": {},
   "outputs": [],
   "source": [
    "test = pd.DataFrame(\n",
    "    {'Predicted Sales':XGB_pred_cv, 'Actual Sales':y_cv}\n",
    ")\n",
    "\n",
    "fig= plt.figure(\n",
    "    figsize=(16, 9)\n",
    ")\n",
    "\n",
    "test = test.reset_index()\n",
    "test = test.drop(\n",
    "    ['index'],axis=1\n",
    ")\n",
    "\n",
    "plt.plot(test[:50])\n",
    "plt.legend(['Actual Sales','Predicted Sales'])\n",
    "plt.title('Actual & Predicted Sales')\n",
    "plt.show()"
   ]
  },
  {
   "cell_type": "code",
   "execution_count": null,
   "id": "eb69f756",
   "metadata": {},
   "outputs": [],
   "source": [
    "Test_prediction = pipeline_XGB.predict(X_test)"
   ]
  },
  {
   "cell_type": "code",
   "execution_count": null,
   "id": "cabbffbb",
   "metadata": {},
   "outputs": [],
   "source": [
    "Test_prediction"
   ]
  },
  {
   "cell_type": "code",
   "execution_count": null,
   "id": "5bc1afd7",
   "metadata": {},
   "outputs": [],
   "source": [
    "Test_data = pd.read_csv('SAMPLE.csv')"
   ]
  },
  {
   "cell_type": "code",
   "execution_count": null,
   "id": "4e09fe46",
   "metadata": {},
   "outputs": [],
   "source": [
    "Test_data.head()"
   ]
  },
  {
   "cell_type": "code",
   "execution_count": null,
   "id": "1f0fed29",
   "metadata": {},
   "outputs": [],
   "source": [
    "FE_test_2.head()"
   ]
  },
  {
   "cell_type": "code",
   "execution_count": null,
   "id": "15a3cdd9",
   "metadata": {},
   "outputs": [],
   "source": [
    "Test_3= FE_test_2.filter(['ID'],axis=1)"
   ]
  },
  {
   "cell_type": "code",
   "execution_count": null,
   "id": "7ba3ebd7",
   "metadata": {},
   "outputs": [],
   "source": [
    "Test_3.head()"
   ]
  },
  {
   "cell_type": "code",
   "execution_count": null,
   "id": "254bca0a",
   "metadata": {},
   "outputs": [],
   "source": [
    "Test_3['Sales'] = Test_prediction"
   ]
  },
  {
   "cell_type": "code",
   "execution_count": null,
   "id": "6ef77959",
   "metadata": {},
   "outputs": [],
   "source": [
    "Test_3.head()"
   ]
  },
  {
   "cell_type": "code",
   "execution_count": null,
   "id": "808968b9",
   "metadata": {},
   "outputs": [],
   "source": [
    "Test_3.to_csv('XGB.csv',index=True)"
   ]
  },
  {
   "cell_type": "code",
   "execution_count": null,
   "id": "5134fe7b",
   "metadata": {},
   "outputs": [],
   "source": []
  },
  {
   "cell_type": "code",
   "execution_count": null,
   "id": "55d43dd5",
   "metadata": {},
   "outputs": [],
   "source": []
  }
 ],
 "metadata": {
  "kernelspec": {
   "display_name": "Python 3",
   "language": "python",
   "name": "python3"
  },
  "language_info": {
   "codemirror_mode": {
    "name": "ipython",
    "version": 3
   },
   "file_extension": ".py",
   "mimetype": "text/x-python",
   "name": "python",
   "nbconvert_exporter": "python",
   "pygments_lexer": "ipython3",
   "version": "3.8.8"
  }
 },
 "nbformat": 4,
 "nbformat_minor": 5
}
