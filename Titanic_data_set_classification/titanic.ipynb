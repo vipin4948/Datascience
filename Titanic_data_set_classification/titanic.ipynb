{
 "cells": [
  {
   "cell_type": "code",
   "execution_count": 1,
   "id": "39444ac5",
   "metadata": {
    "_cell_guid": "b1076dfc-b9ad-4769-8c92-a6c4dae69d19",
    "_uuid": "8f2839f25d086af736a60e9eeb907d3b93b6e0e5",
    "execution": {
     "iopub.execute_input": "2021-07-29T13:52:57.601830Z",
     "iopub.status.busy": "2021-07-29T13:52:57.600691Z",
     "iopub.status.idle": "2021-07-29T13:52:57.616020Z",
     "shell.execute_reply": "2021-07-29T13:52:57.615279Z",
     "shell.execute_reply.started": "2021-07-29T13:46:05.018589Z"
    },
    "papermill": {
     "duration": 0.071131,
     "end_time": "2021-07-29T13:52:57.616213",
     "exception": false,
     "start_time": "2021-07-29T13:52:57.545082",
     "status": "completed"
    },
    "tags": []
   },
   "outputs": [],
   "source": [
    "\n",
    "\n",
    "import numpy as np # linear algebra\n",
    "import pandas as pd # data processing, CSV file I/O (e.g. pd.read_csv)\n",
    "\n"
   ]
  },
  {
   "cell_type": "code",
   "execution_count": 2,
   "id": "2315a85a",
   "metadata": {
    "execution": {
     "iopub.execute_input": "2021-07-29T13:52:57.724306Z",
     "iopub.status.busy": "2021-07-29T13:52:57.723668Z",
     "iopub.status.idle": "2021-07-29T13:52:58.818992Z",
     "shell.execute_reply": "2021-07-29T13:52:58.818227Z",
     "shell.execute_reply.started": "2021-07-29T13:46:05.052380Z"
    },
    "papermill": {
     "duration": 1.150923,
     "end_time": "2021-07-29T13:52:58.819193",
     "exception": false,
     "start_time": "2021-07-29T13:52:57.668270",
     "status": "completed"
    },
    "tags": []
   },
   "outputs": [],
   "source": [
    "import seaborn as sns\n",
    "import matplotlib.pyplot as plt\n",
    "%matplotlib inline"
   ]
  },
  {
   "cell_type": "code",
   "execution_count": null,
   "id": "8c6f6261",
   "metadata": {},
   "outputs": [],
   "source": []
  },
  {
   "cell_type": "code",
   "execution_count": 3,
   "id": "55a70e7d",
   "metadata": {
    "execution": {
     "iopub.execute_input": "2021-07-29T13:52:58.929818Z",
     "iopub.status.busy": "2021-07-29T13:52:58.928966Z",
     "iopub.status.idle": "2021-07-29T13:52:58.960250Z",
     "shell.execute_reply": "2021-07-29T13:52:58.959069Z",
     "shell.execute_reply.started": "2021-07-29T13:46:05.604425Z"
    },
    "papermill": {
     "duration": 0.088874,
     "end_time": "2021-07-29T13:52:58.960428",
     "exception": false,
     "start_time": "2021-07-29T13:52:58.871554",
     "status": "completed"
    },
    "tags": []
   },
   "outputs": [],
   "source": [
    "df=pd.read_csv('train.csv')\n",
    "df_test=pd.read_csv('test.csv')"
   ]
  },
  {
   "cell_type": "code",
   "execution_count": 4,
   "id": "21d1cf70",
   "metadata": {
    "execution": {
     "iopub.execute_input": "2021-07-29T13:52:59.076476Z",
     "iopub.status.busy": "2021-07-29T13:52:59.075546Z",
     "iopub.status.idle": "2021-07-29T13:52:59.100020Z",
     "shell.execute_reply": "2021-07-29T13:52:59.099481Z",
     "shell.execute_reply.started": "2021-07-29T13:46:05.628268Z"
    },
    "papermill": {
     "duration": 0.087691,
     "end_time": "2021-07-29T13:52:59.100196",
     "exception": false,
     "start_time": "2021-07-29T13:52:59.012505",
     "status": "completed"
    },
    "tags": []
   },
   "outputs": [
    {
     "data": {
      "text/html": [
       "<div>\n",
       "<style scoped>\n",
       "    .dataframe tbody tr th:only-of-type {\n",
       "        vertical-align: middle;\n",
       "    }\n",
       "\n",
       "    .dataframe tbody tr th {\n",
       "        vertical-align: top;\n",
       "    }\n",
       "\n",
       "    .dataframe thead th {\n",
       "        text-align: right;\n",
       "    }\n",
       "</style>\n",
       "<table border=\"1\" class=\"dataframe\">\n",
       "  <thead>\n",
       "    <tr style=\"text-align: right;\">\n",
       "      <th></th>\n",
       "      <th>PassengerId</th>\n",
       "      <th>Survived</th>\n",
       "      <th>Pclass</th>\n",
       "      <th>Name</th>\n",
       "      <th>Sex</th>\n",
       "      <th>Age</th>\n",
       "      <th>SibSp</th>\n",
       "      <th>Parch</th>\n",
       "      <th>Ticket</th>\n",
       "      <th>Fare</th>\n",
       "      <th>Cabin</th>\n",
       "      <th>Embarked</th>\n",
       "    </tr>\n",
       "  </thead>\n",
       "  <tbody>\n",
       "    <tr>\n",
       "      <th>0</th>\n",
       "      <td>1</td>\n",
       "      <td>0</td>\n",
       "      <td>3</td>\n",
       "      <td>Braund, Mr. Owen Harris</td>\n",
       "      <td>male</td>\n",
       "      <td>22.0</td>\n",
       "      <td>1</td>\n",
       "      <td>0</td>\n",
       "      <td>A/5 21171</td>\n",
       "      <td>7.2500</td>\n",
       "      <td>NaN</td>\n",
       "      <td>S</td>\n",
       "    </tr>\n",
       "    <tr>\n",
       "      <th>1</th>\n",
       "      <td>2</td>\n",
       "      <td>1</td>\n",
       "      <td>1</td>\n",
       "      <td>Cumings, Mrs. John Bradley (Florence Briggs Th...</td>\n",
       "      <td>female</td>\n",
       "      <td>38.0</td>\n",
       "      <td>1</td>\n",
       "      <td>0</td>\n",
       "      <td>PC 17599</td>\n",
       "      <td>71.2833</td>\n",
       "      <td>C85</td>\n",
       "      <td>C</td>\n",
       "    </tr>\n",
       "    <tr>\n",
       "      <th>2</th>\n",
       "      <td>3</td>\n",
       "      <td>1</td>\n",
       "      <td>3</td>\n",
       "      <td>Heikkinen, Miss. Laina</td>\n",
       "      <td>female</td>\n",
       "      <td>26.0</td>\n",
       "      <td>0</td>\n",
       "      <td>0</td>\n",
       "      <td>STON/O2. 3101282</td>\n",
       "      <td>7.9250</td>\n",
       "      <td>NaN</td>\n",
       "      <td>S</td>\n",
       "    </tr>\n",
       "    <tr>\n",
       "      <th>3</th>\n",
       "      <td>4</td>\n",
       "      <td>1</td>\n",
       "      <td>1</td>\n",
       "      <td>Futrelle, Mrs. Jacques Heath (Lily May Peel)</td>\n",
       "      <td>female</td>\n",
       "      <td>35.0</td>\n",
       "      <td>1</td>\n",
       "      <td>0</td>\n",
       "      <td>113803</td>\n",
       "      <td>53.1000</td>\n",
       "      <td>C123</td>\n",
       "      <td>S</td>\n",
       "    </tr>\n",
       "    <tr>\n",
       "      <th>4</th>\n",
       "      <td>5</td>\n",
       "      <td>0</td>\n",
       "      <td>3</td>\n",
       "      <td>Allen, Mr. William Henry</td>\n",
       "      <td>male</td>\n",
       "      <td>35.0</td>\n",
       "      <td>0</td>\n",
       "      <td>0</td>\n",
       "      <td>373450</td>\n",
       "      <td>8.0500</td>\n",
       "      <td>NaN</td>\n",
       "      <td>S</td>\n",
       "    </tr>\n",
       "  </tbody>\n",
       "</table>\n",
       "</div>"
      ],
      "text/plain": [
       "   PassengerId  Survived  Pclass  \\\n",
       "0            1         0       3   \n",
       "1            2         1       1   \n",
       "2            3         1       3   \n",
       "3            4         1       1   \n",
       "4            5         0       3   \n",
       "\n",
       "                                                Name     Sex   Age  SibSp  \\\n",
       "0                            Braund, Mr. Owen Harris    male  22.0      1   \n",
       "1  Cumings, Mrs. John Bradley (Florence Briggs Th...  female  38.0      1   \n",
       "2                             Heikkinen, Miss. Laina  female  26.0      0   \n",
       "3       Futrelle, Mrs. Jacques Heath (Lily May Peel)  female  35.0      1   \n",
       "4                           Allen, Mr. William Henry    male  35.0      0   \n",
       "\n",
       "   Parch            Ticket     Fare Cabin Embarked  \n",
       "0      0         A/5 21171   7.2500   NaN        S  \n",
       "1      0          PC 17599  71.2833   C85        C  \n",
       "2      0  STON/O2. 3101282   7.9250   NaN        S  \n",
       "3      0            113803  53.1000  C123        S  \n",
       "4      0            373450   8.0500   NaN        S  "
      ]
     },
     "execution_count": 4,
     "metadata": {},
     "output_type": "execute_result"
    }
   ],
   "source": [
    "df.head()\n",
    "\n"
   ]
  },
  {
   "cell_type": "code",
   "execution_count": 5,
   "id": "2fc0eac5",
   "metadata": {
    "execution": {
     "iopub.execute_input": "2021-07-29T13:52:59.225099Z",
     "iopub.status.busy": "2021-07-29T13:52:59.224190Z",
     "iopub.status.idle": "2021-07-29T13:52:59.228781Z",
     "shell.execute_reply": "2021-07-29T13:52:59.228101Z",
     "shell.execute_reply.started": "2021-07-29T13:46:05.671477Z"
    },
    "papermill": {
     "duration": 0.076414,
     "end_time": "2021-07-29T13:52:59.228959",
     "exception": false,
     "start_time": "2021-07-29T13:52:59.152545",
     "status": "completed"
    },
    "tags": []
   },
   "outputs": [
    {
     "data": {
      "text/html": [
       "<div>\n",
       "<style scoped>\n",
       "    .dataframe tbody tr th:only-of-type {\n",
       "        vertical-align: middle;\n",
       "    }\n",
       "\n",
       "    .dataframe tbody tr th {\n",
       "        vertical-align: top;\n",
       "    }\n",
       "\n",
       "    .dataframe thead th {\n",
       "        text-align: right;\n",
       "    }\n",
       "</style>\n",
       "<table border=\"1\" class=\"dataframe\">\n",
       "  <thead>\n",
       "    <tr style=\"text-align: right;\">\n",
       "      <th></th>\n",
       "      <th>PassengerId</th>\n",
       "      <th>Pclass</th>\n",
       "      <th>Name</th>\n",
       "      <th>Sex</th>\n",
       "      <th>Age</th>\n",
       "      <th>SibSp</th>\n",
       "      <th>Parch</th>\n",
       "      <th>Ticket</th>\n",
       "      <th>Fare</th>\n",
       "      <th>Cabin</th>\n",
       "      <th>Embarked</th>\n",
       "    </tr>\n",
       "  </thead>\n",
       "  <tbody>\n",
       "    <tr>\n",
       "      <th>0</th>\n",
       "      <td>892</td>\n",
       "      <td>3</td>\n",
       "      <td>Kelly, Mr. James</td>\n",
       "      <td>male</td>\n",
       "      <td>34.5</td>\n",
       "      <td>0</td>\n",
       "      <td>0</td>\n",
       "      <td>330911</td>\n",
       "      <td>7.8292</td>\n",
       "      <td>NaN</td>\n",
       "      <td>Q</td>\n",
       "    </tr>\n",
       "    <tr>\n",
       "      <th>1</th>\n",
       "      <td>893</td>\n",
       "      <td>3</td>\n",
       "      <td>Wilkes, Mrs. James (Ellen Needs)</td>\n",
       "      <td>female</td>\n",
       "      <td>47.0</td>\n",
       "      <td>1</td>\n",
       "      <td>0</td>\n",
       "      <td>363272</td>\n",
       "      <td>7.0000</td>\n",
       "      <td>NaN</td>\n",
       "      <td>S</td>\n",
       "    </tr>\n",
       "    <tr>\n",
       "      <th>2</th>\n",
       "      <td>894</td>\n",
       "      <td>2</td>\n",
       "      <td>Myles, Mr. Thomas Francis</td>\n",
       "      <td>male</td>\n",
       "      <td>62.0</td>\n",
       "      <td>0</td>\n",
       "      <td>0</td>\n",
       "      <td>240276</td>\n",
       "      <td>9.6875</td>\n",
       "      <td>NaN</td>\n",
       "      <td>Q</td>\n",
       "    </tr>\n",
       "    <tr>\n",
       "      <th>3</th>\n",
       "      <td>895</td>\n",
       "      <td>3</td>\n",
       "      <td>Wirz, Mr. Albert</td>\n",
       "      <td>male</td>\n",
       "      <td>27.0</td>\n",
       "      <td>0</td>\n",
       "      <td>0</td>\n",
       "      <td>315154</td>\n",
       "      <td>8.6625</td>\n",
       "      <td>NaN</td>\n",
       "      <td>S</td>\n",
       "    </tr>\n",
       "    <tr>\n",
       "      <th>4</th>\n",
       "      <td>896</td>\n",
       "      <td>3</td>\n",
       "      <td>Hirvonen, Mrs. Alexander (Helga E Lindqvist)</td>\n",
       "      <td>female</td>\n",
       "      <td>22.0</td>\n",
       "      <td>1</td>\n",
       "      <td>1</td>\n",
       "      <td>3101298</td>\n",
       "      <td>12.2875</td>\n",
       "      <td>NaN</td>\n",
       "      <td>S</td>\n",
       "    </tr>\n",
       "  </tbody>\n",
       "</table>\n",
       "</div>"
      ],
      "text/plain": [
       "   PassengerId  Pclass                                          Name     Sex  \\\n",
       "0          892       3                              Kelly, Mr. James    male   \n",
       "1          893       3              Wilkes, Mrs. James (Ellen Needs)  female   \n",
       "2          894       2                     Myles, Mr. Thomas Francis    male   \n",
       "3          895       3                              Wirz, Mr. Albert    male   \n",
       "4          896       3  Hirvonen, Mrs. Alexander (Helga E Lindqvist)  female   \n",
       "\n",
       "    Age  SibSp  Parch   Ticket     Fare Cabin Embarked  \n",
       "0  34.5      0      0   330911   7.8292   NaN        Q  \n",
       "1  47.0      1      0   363272   7.0000   NaN        S  \n",
       "2  62.0      0      0   240276   9.6875   NaN        Q  \n",
       "3  27.0      0      0   315154   8.6625   NaN        S  \n",
       "4  22.0      1      1  3101298  12.2875   NaN        S  "
      ]
     },
     "execution_count": 5,
     "metadata": {},
     "output_type": "execute_result"
    }
   ],
   "source": [
    "df_test.head()"
   ]
  },
  {
   "cell_type": "code",
   "execution_count": 6,
   "id": "719a19c7",
   "metadata": {
    "execution": {
     "iopub.execute_input": "2021-07-29T13:52:59.360055Z",
     "iopub.status.busy": "2021-07-29T13:52:59.359309Z",
     "iopub.status.idle": "2021-07-29T13:52:59.362868Z",
     "shell.execute_reply": "2021-07-29T13:52:59.363496Z",
     "shell.execute_reply.started": "2021-07-29T13:46:05.695425Z"
    },
    "papermill": {
     "duration": 0.080199,
     "end_time": "2021-07-29T13:52:59.363712",
     "exception": false,
     "start_time": "2021-07-29T13:52:59.283513",
     "status": "completed"
    },
    "tags": []
   },
   "outputs": [
    {
     "name": "stdout",
     "output_type": "stream",
     "text": [
      "<class 'pandas.core.frame.DataFrame'>\n",
      "RangeIndex: 891 entries, 0 to 890\n",
      "Data columns (total 12 columns):\n",
      " #   Column       Non-Null Count  Dtype  \n",
      "---  ------       --------------  -----  \n",
      " 0   PassengerId  891 non-null    int64  \n",
      " 1   Survived     891 non-null    int64  \n",
      " 2   Pclass       891 non-null    int64  \n",
      " 3   Name         891 non-null    object \n",
      " 4   Sex          891 non-null    object \n",
      " 5   Age          714 non-null    float64\n",
      " 6   SibSp        891 non-null    int64  \n",
      " 7   Parch        891 non-null    int64  \n",
      " 8   Ticket       891 non-null    object \n",
      " 9   Fare         891 non-null    float64\n",
      " 10  Cabin        204 non-null    object \n",
      " 11  Embarked     889 non-null    object \n",
      "dtypes: float64(2), int64(5), object(5)\n",
      "memory usage: 83.7+ KB\n"
     ]
    }
   ],
   "source": [
    "df.info()"
   ]
  },
  {
   "cell_type": "code",
   "execution_count": 7,
   "id": "84505bf1",
   "metadata": {
    "execution": {
     "iopub.execute_input": "2021-07-29T13:52:59.486647Z",
     "iopub.status.busy": "2021-07-29T13:52:59.480092Z",
     "iopub.status.idle": "2021-07-29T13:52:59.491842Z",
     "shell.execute_reply": "2021-07-29T13:52:59.491082Z",
     "shell.execute_reply.started": "2021-07-29T13:46:05.728606Z"
    },
    "papermill": {
     "duration": 0.074936,
     "end_time": "2021-07-29T13:52:59.492058",
     "exception": false,
     "start_time": "2021-07-29T13:52:59.417122",
     "status": "completed"
    },
    "tags": []
   },
   "outputs": [
    {
     "name": "stdout",
     "output_type": "stream",
     "text": [
      "<class 'pandas.core.frame.DataFrame'>\n",
      "RangeIndex: 418 entries, 0 to 417\n",
      "Data columns (total 11 columns):\n",
      " #   Column       Non-Null Count  Dtype  \n",
      "---  ------       --------------  -----  \n",
      " 0   PassengerId  418 non-null    int64  \n",
      " 1   Pclass       418 non-null    int64  \n",
      " 2   Name         418 non-null    object \n",
      " 3   Sex          418 non-null    object \n",
      " 4   Age          332 non-null    float64\n",
      " 5   SibSp        418 non-null    int64  \n",
      " 6   Parch        418 non-null    int64  \n",
      " 7   Ticket       418 non-null    object \n",
      " 8   Fare         417 non-null    float64\n",
      " 9   Cabin        91 non-null     object \n",
      " 10  Embarked     418 non-null    object \n",
      "dtypes: float64(2), int64(4), object(5)\n",
      "memory usage: 36.0+ KB\n"
     ]
    }
   ],
   "source": [
    "df_test.info()"
   ]
  },
  {
   "cell_type": "code",
   "execution_count": null,
   "id": "7d6653e6",
   "metadata": {
    "papermill": {
     "duration": 0.053343,
     "end_time": "2021-07-29T13:52:59.599433",
     "exception": false,
     "start_time": "2021-07-29T13:52:59.546090",
     "status": "completed"
    },
    "tags": []
   },
   "outputs": [],
   "source": []
  },
  {
   "cell_type": "code",
   "execution_count": 8,
   "id": "9253274a",
   "metadata": {
    "execution": {
     "iopub.execute_input": "2021-07-29T13:52:59.730655Z",
     "iopub.status.busy": "2021-07-29T13:52:59.714234Z",
     "iopub.status.idle": "2021-07-29T13:53:00.225998Z",
     "shell.execute_reply": "2021-07-29T13:53:00.226555Z",
     "shell.execute_reply.started": "2021-07-29T13:46:05.758010Z"
    },
    "papermill": {
     "duration": 0.573699,
     "end_time": "2021-07-29T13:53:00.226765",
     "exception": false,
     "start_time": "2021-07-29T13:52:59.653066",
     "status": "completed"
    },
    "tags": []
   },
   "outputs": [
    {
     "data": {
      "text/plain": [
       "<AxesSubplot:>"
      ]
     },
     "execution_count": 8,
     "metadata": {},
     "output_type": "execute_result"
    },
    {
     "data": {
      "image/png": "[encoded data removed]",
      "text/plain": [
       "<Figure size 432x288 with 2 Axes>"
      ]
     },
     "metadata": {
      "needs_background": "light"
     },
     "output_type": "display_data"
    }
   ],
   "source": [
    "#checking missing values \n",
    "sns.heatmap(df.isnull(),yticklabels='auto',cmap='cividis')\n",
    "#cabin values are missing\n",
    "#Age values are missing"
   ]
  },
  {
   "cell_type": "code",
   "execution_count": 9,
   "id": "ad7f6486",
   "metadata": {
    "execution": {
     "iopub.execute_input": "2021-07-29T13:53:00.339652Z",
     "iopub.status.busy": "2021-07-29T13:53:00.338603Z",
     "iopub.status.idle": "2021-07-29T13:53:00.796239Z",
     "shell.execute_reply": "2021-07-29T13:53:00.795668Z",
     "shell.execute_reply.started": "2021-07-29T13:46:06.316939Z"
    },
    "papermill": {
     "duration": 0.514956,
     "end_time": "2021-07-29T13:53:00.796426",
     "exception": false,
     "start_time": "2021-07-29T13:53:00.281470",
     "status": "completed"
    },
    "tags": []
   },
   "outputs": [
    {
     "data": {
      "text/plain": [
       "<AxesSubplot:>"
      ]
     },
     "execution_count": 9,
     "metadata": {},
     "output_type": "execute_result"
    },
    {
     "data": {
      "image/png": "[encoded data removed]",
      "text/plain": [
       "<Figure size 432x288 with 2 Axes>"
      ]
     },
     "metadata": {
      "needs_background": "light"
     },
     "output_type": "display_data"
    }
   ],
   "source": [
    "sns.heatmap(df_test.isnull(),yticklabels='auto',cmap='cividis')\n",
    "#cabin values are missing\n",
    "#Age values are missing"
   ]
  },
  {
   "cell_type": "code",
   "execution_count": 10,
   "id": "6325e061",
   "metadata": {
    "execution": {
     "iopub.execute_input": "2021-07-29T13:53:00.917516Z",
     "iopub.status.busy": "2021-07-29T13:53:00.916661Z",
     "iopub.status.idle": "2021-07-29T13:53:00.919867Z",
     "shell.execute_reply": "2021-07-29T13:53:00.920419Z",
     "shell.execute_reply.started": "2021-07-29T13:46:06.798729Z"
    },
    "papermill": {
     "duration": 0.068103,
     "end_time": "2021-07-29T13:53:00.920624",
     "exception": false,
     "start_time": "2021-07-29T13:53:00.852521",
     "status": "completed"
    },
    "tags": []
   },
   "outputs": [
    {
     "data": {
      "text/plain": [
       "array([  7.8292,   7.    ,   9.6875,   8.6625,  12.2875,   9.225 ,\n",
       "         7.6292,  29.    ,   7.2292,  24.15  ,   7.8958,  26.    ,\n",
       "        82.2667,  61.175 ,  27.7208,  12.35  ,   7.225 ,   7.925 ,\n",
       "        59.4   ,   3.1708,  31.6833,  61.3792, 262.375 ,  14.5   ,\n",
       "        61.9792,  30.5   ,  21.6792,  31.5   ,  20.575 ,  23.45  ,\n",
       "        57.75  ,   8.05  ,   9.5   ,  56.4958,  13.4167,  26.55  ,\n",
       "         7.85  ,  13.    ,  52.5542,  29.7   ,   7.75  ,  76.2917,\n",
       "        15.9   ,  60.    ,  15.0333,  23.    , 263.    ,  15.5792,\n",
       "        29.125 ,   7.65  ,  16.1   ,  13.5   ,   7.725 ,  21.    ,\n",
       "         7.8792,  42.4   ,  28.5375, 211.5   ,  25.7   ,  15.2458,\n",
       "       221.7792,  10.7083,  14.4542,  13.9   ,   7.775 ,  52.    ,\n",
       "         7.7958,  78.85  ,   7.8542,  55.4417,   8.5167,  22.525 ,\n",
       "         7.8208,   8.7125,  15.0458,   7.7792,  31.6792,   7.2833,\n",
       "         6.4375,  16.7   ,  75.2417,  15.75  ,   7.25  ,  23.25  ,\n",
       "        28.5   ,  25.4667,  46.9   , 151.55  ,  18.    ,  51.8625,\n",
       "        83.1583,      nan,  12.1833,  31.3875,   7.55  ,  13.775 ,\n",
       "         7.7333,  22.025 ,  50.4958,  34.375 ,   8.9625,  39.    ,\n",
       "        36.75  ,  53.1   , 247.5208,  16.    ,  69.55  ,  32.5   ,\n",
       "       134.5   ,  10.5   ,   8.1125,  15.5   ,  14.4   , 227.525 ,\n",
       "        25.7417,   7.05  ,  73.5   ,  42.5   , 164.8667,  13.8583,\n",
       "        27.4458,  15.1   ,  65.    ,   6.4958,  71.2833,  75.25  ,\n",
       "       106.425 ,  30.    ,   7.8875,  27.75  , 136.7792,   9.325 ,\n",
       "        17.4   ,  12.7375,   0.    ,  20.2125,  39.6   ,   6.95  ,\n",
       "        81.8583,  41.5792,  45.5   ,   9.35  ,  93.5   ,  14.1083,\n",
       "         7.575 , 135.6333, 146.5208, 211.3375,  79.2   ,  15.7417,\n",
       "         7.5792, 512.3292,  63.3583,  51.4792,  15.55  ,  37.0042,\n",
       "        14.4583,  39.6875,  11.5   ,  50.    ,  12.875 ,  21.075 ,\n",
       "        39.4   ,  20.25  ,  47.1   ,  13.8625,   7.7208,  90.    ,\n",
       "       108.9   ,  22.3583])"
      ]
     },
     "execution_count": 10,
     "metadata": {},
     "output_type": "execute_result"
    }
   ],
   "source": [
    "#the one value from fare in test and train data set is missing.finding out which value is that\n",
    "df_test['Fare'].unique()"
   ]
  },
  {
   "cell_type": "code",
   "execution_count": 11,
   "id": "72799e0e",
   "metadata": {
    "execution": {
     "iopub.execute_input": "2021-07-29T13:53:01.038265Z",
     "iopub.status.busy": "2021-07-29T13:53:01.037596Z",
     "iopub.status.idle": "2021-07-29T13:53:01.050272Z",
     "shell.execute_reply": "2021-07-29T13:53:01.050778Z",
     "shell.execute_reply.started": "2021-07-29T13:46:06.813464Z"
    },
    "papermill": {
     "duration": 0.072598,
     "end_time": "2021-07-29T13:53:01.050984",
     "exception": false,
     "start_time": "2021-07-29T13:53:00.978386",
     "status": "completed"
    },
    "tags": []
   },
   "outputs": [
    {
     "name": "stdout",
     "output_type": "stream",
     "text": [
      "     PassengerId  Pclass                Name   Sex   Age  SibSp  Parch Ticket  \\\n",
      "152         1044       3  Storey, Mr. Thomas  male  60.5      0      0   3701   \n",
      "\n",
      "     Fare Cabin Embarked  \n",
      "152   NaN   NaN        S  \n"
     ]
    }
   ],
   "source": [
    "print (df_test[df_test.Fare.isnull()])\n",
    "#the fare value from pclass 3 is missing\n"
   ]
  },
  {
   "cell_type": "code",
   "execution_count": 12,
   "id": "632efb86",
   "metadata": {
    "execution": {
     "iopub.execute_input": "2021-07-29T13:53:01.169923Z",
     "iopub.status.busy": "2021-07-29T13:53:01.169129Z",
     "iopub.status.idle": "2021-07-29T13:53:01.191279Z",
     "shell.execute_reply": "2021-07-29T13:53:01.190760Z",
     "shell.execute_reply.started": "2021-07-29T13:46:06.831701Z"
    },
    "papermill": {
     "duration": 0.0836,
     "end_time": "2021-07-29T13:53:01.191434",
     "exception": false,
     "start_time": "2021-07-29T13:53:01.107834",
     "status": "completed"
    },
    "tags": []
   },
   "outputs": [
    {
     "data": {
      "text/plain": [
       "12.459677880184334"
      ]
     },
     "execution_count": 12,
     "metadata": {},
     "output_type": "execute_result"
    }
   ],
   "source": [
    "#checking mean fare value of pclass 3\n",
    "df_test[df_test['Pclass' ]== 3]['Fare'].mean()"
   ]
  },
  {
   "cell_type": "code",
   "execution_count": 13,
   "id": "add6dc0a",
   "metadata": {
    "execution": {
     "iopub.execute_input": "2021-07-29T13:53:01.314081Z",
     "iopub.status.busy": "2021-07-29T13:53:01.313186Z",
     "iopub.status.idle": "2021-07-29T13:53:01.316149Z",
     "shell.execute_reply": "2021-07-29T13:53:01.315497Z",
     "shell.execute_reply.started": "2021-07-29T13:46:06.855244Z"
    },
    "papermill": {
     "duration": 0.06803,
     "end_time": "2021-07-29T13:53:01.316327",
     "exception": false,
     "start_time": "2021-07-29T13:53:01.248297",
     "status": "completed"
    },
    "tags": []
   },
   "outputs": [],
   "source": [
    "#filling nan value with mean value in fare column\n",
    "df_test['Fare'].fillna(df_test[df_test['Pclass' ]== 3]['Fare'].mean(),inplace=True)"
   ]
  },
  {
   "cell_type": "code",
   "execution_count": 14,
   "id": "7df2d93a",
   "metadata": {
    "execution": {
     "iopub.execute_input": "2021-07-29T13:53:01.445824Z",
     "iopub.status.busy": "2021-07-29T13:53:01.445059Z",
     "iopub.status.idle": "2021-07-29T13:53:01.448515Z",
     "shell.execute_reply": "2021-07-29T13:53:01.448935Z",
     "shell.execute_reply.started": "2021-07-29T13:46:06.868805Z"
    },
    "papermill": {
     "duration": 0.075603,
     "end_time": "2021-07-29T13:53:01.449123",
     "exception": false,
     "start_time": "2021-07-29T13:53:01.373520",
     "status": "completed"
    },
    "tags": []
   },
   "outputs": [
    {
     "name": "stdout",
     "output_type": "stream",
     "text": [
      "<class 'pandas.core.frame.DataFrame'>\n",
      "RangeIndex: 418 entries, 0 to 417\n",
      "Data columns (total 11 columns):\n",
      " #   Column       Non-Null Count  Dtype  \n",
      "---  ------       --------------  -----  \n",
      " 0   PassengerId  418 non-null    int64  \n",
      " 1   Pclass       418 non-null    int64  \n",
      " 2   Name         418 non-null    object \n",
      " 3   Sex          418 non-null    object \n",
      " 4   Age          332 non-null    float64\n",
      " 5   SibSp        418 non-null    int64  \n",
      " 6   Parch        418 non-null    int64  \n",
      " 7   Ticket       418 non-null    object \n",
      " 8   Fare         418 non-null    float64\n",
      " 9   Cabin        91 non-null     object \n",
      " 10  Embarked     418 non-null    object \n",
      "dtypes: float64(2), int64(4), object(5)\n",
      "memory usage: 36.0+ KB\n"
     ]
    }
   ],
   "source": [
    "df_test.info()"
   ]
  },
  {
   "cell_type": "code",
   "execution_count": 15,
   "id": "d9394109",
   "metadata": {
    "execution": {
     "iopub.execute_input": "2021-07-29T13:53:01.571794Z",
     "iopub.status.busy": "2021-07-29T13:53:01.569861Z",
     "iopub.status.idle": "2021-07-29T13:53:01.709883Z",
     "shell.execute_reply": "2021-07-29T13:53:01.709289Z",
     "shell.execute_reply.started": "2021-07-29T13:46:06.898649Z"
    },
    "papermill": {
     "duration": 0.203599,
     "end_time": "2021-07-29T13:53:01.710050",
     "exception": false,
     "start_time": "2021-07-29T13:53:01.506451",
     "status": "completed"
    },
    "tags": []
   },
   "outputs": [
    {
     "data": {
      "text/plain": [
       "<AxesSubplot:xlabel='Survived', ylabel='count'>"
      ]
     },
     "execution_count": 15,
     "metadata": {},
     "output_type": "execute_result"
    },
    {
     "data": {
      "image/png": "[encoded data removed]",
      "text/plain": [
       "<Figure size 432x288 with 1 Axes>"
      ]
     },
     "metadata": {
      "needs_background": "light"
     },
     "output_type": "display_data"
    }
   ],
   "source": [
    "sns.countplot(x='Survived',data=df)"
   ]
  },
  {
   "cell_type": "code",
   "execution_count": 16,
   "id": "7edd1eba",
   "metadata": {
    "execution": {
     "iopub.execute_input": "2021-07-29T13:53:01.834199Z",
     "iopub.status.busy": "2021-07-29T13:53:01.833503Z",
     "iopub.status.idle": "2021-07-29T13:53:01.999681Z",
     "shell.execute_reply": "2021-07-29T13:53:01.998955Z",
     "shell.execute_reply.started": "2021-07-29T13:46:07.053657Z"
    },
    "papermill": {
     "duration": 0.231474,
     "end_time": "2021-07-29T13:53:01.999850",
     "exception": false,
     "start_time": "2021-07-29T13:53:01.768376",
     "status": "completed"
    },
    "tags": []
   },
   "outputs": [
    {
     "data": {
      "text/plain": [
       "<AxesSubplot:xlabel='Survived', ylabel='count'>"
      ]
     },
     "execution_count": 16,
     "metadata": {},
     "output_type": "execute_result"
    },
    {
     "data": {
      "image/png": "[encoded data removed]",
      "text/plain": [
       "<Figure size 432x288 with 1 Axes>"
      ]
     },
     "metadata": {
      "needs_background": "light"
     },
     "output_type": "display_data"
    }
   ],
   "source": [
    "#using count plot visualizing no of survived passengers based on sex\n",
    "sns.countplot(x='Survived',hue='Sex',data=df)\n",
    "#female passengers are the most of the survivers"
   ]
  },
  {
   "cell_type": "code",
   "execution_count": 17,
   "id": "8379dfa7",
   "metadata": {
    "execution": {
     "iopub.execute_input": "2021-07-29T13:53:02.127267Z",
     "iopub.status.busy": "2021-07-29T13:53:02.126410Z",
     "iopub.status.idle": "2021-07-29T13:53:02.311974Z",
     "shell.execute_reply": "2021-07-29T13:53:02.311379Z",
     "shell.execute_reply.started": "2021-07-29T13:46:07.231875Z"
    },
    "papermill": {
     "duration": 0.252323,
     "end_time": "2021-07-29T13:53:02.312130",
     "exception": false,
     "start_time": "2021-07-29T13:53:02.059807",
     "status": "completed"
    },
    "tags": []
   },
   "outputs": [
    {
     "data": {
      "text/plain": [
       "<AxesSubplot:xlabel='Survived', ylabel='count'>"
      ]
     },
     "execution_count": 17,
     "metadata": {},
     "output_type": "execute_result"
    },
    {
     "data": {
      "image/png": "[encoded data removed]",
      "text/plain": [
       "<Figure size 432x288 with 1 Axes>"
      ]
     },
     "metadata": {
      "needs_background": "light"
     },
     "output_type": "display_data"
    }
   ],
   "source": [
    "#using count plot visualizing no of survived passengers based on Pclass\n",
    "sns.countplot(x='Survived',hue='Pclass',data=df)\n",
    "#most of the 3rd class passengers are not survived`"
   ]
  },
  {
   "cell_type": "code",
   "execution_count": 18,
   "id": "ff25c588",
   "metadata": {
    "execution": {
     "iopub.execute_input": "2021-07-29T13:53:02.439640Z",
     "iopub.status.busy": "2021-07-29T13:53:02.438926Z",
     "iopub.status.idle": "2021-07-29T13:53:02.741849Z",
     "shell.execute_reply": "2021-07-29T13:53:02.742450Z",
     "shell.execute_reply.started": "2021-07-29T13:46:07.436189Z"
    },
    "papermill": {
     "duration": 0.37017,
     "end_time": "2021-07-29T13:53:02.742651",
     "exception": false,
     "start_time": "2021-07-29T13:53:02.372481",
     "status": "completed"
    },
    "tags": []
   },
   "outputs": [
    {
     "data": {
      "text/plain": [
       "<AxesSubplot:xlabel='Age'>"
      ]
     },
     "execution_count": 18,
     "metadata": {},
     "output_type": "execute_result"
    },
    {
     "data": {
      "image/png": "[encoded data removed]",
      "text/plain": [
       "<Figure size 432x288 with 1 Axes>"
      ]
     },
     "metadata": {
      "needs_background": "light"
     },
     "output_type": "display_data"
    }
   ],
   "source": [
    "sns.boxplot(x=df['Age'].dropna())\n",
    "#most of the passengers age is in between 20 to 40"
   ]
  },
  {
   "cell_type": "code",
   "execution_count": 19,
   "id": "dc0e7440",
   "metadata": {
    "execution": {
     "iopub.execute_input": "2021-07-29T13:53:02.871685Z",
     "iopub.status.busy": "2021-07-29T13:53:02.870632Z",
     "iopub.status.idle": "2021-07-29T13:53:03.103127Z",
     "shell.execute_reply": "2021-07-29T13:53:03.103688Z",
     "shell.execute_reply.started": "2021-07-29T13:46:07.726911Z"
    },
    "papermill": {
     "duration": 0.299443,
     "end_time": "2021-07-29T13:53:03.103892",
     "exception": false,
     "start_time": "2021-07-29T13:53:02.804449",
     "status": "completed"
    },
    "tags": []
   },
   "outputs": [
    {
     "data": {
      "text/plain": [
       "<AxesSubplot:xlabel='Survived', ylabel='count'>"
      ]
     },
     "execution_count": 19,
     "metadata": {},
     "output_type": "execute_result"
    },
    {
     "data": {
      "image/png": "[encoded data removed]",
      "text/plain": [
       "<Figure size 432x288 with 1 Axes>"
      ]
     },
     "metadata": {
      "needs_background": "light"
     },
     "output_type": "display_data"
    }
   ],
   "source": [
    "#checking survived based on parch (parents and childern abroad)\n",
    "sns.countplot(x='Survived',hue='Parch',data=df)"
   ]
  },
  {
   "cell_type": "code",
   "execution_count": 20,
   "id": "3c6530f5",
   "metadata": {
    "execution": {
     "iopub.execute_input": "2021-07-29T13:53:03.232102Z",
     "iopub.status.busy": "2021-07-29T13:53:03.231041Z",
     "iopub.status.idle": "2021-07-29T13:53:03.403872Z",
     "shell.execute_reply": "2021-07-29T13:53:03.403334Z",
     "shell.execute_reply.started": "2021-07-29T13:46:07.991570Z"
    },
    "papermill": {
     "duration": 0.238454,
     "end_time": "2021-07-29T13:53:03.404023",
     "exception": false,
     "start_time": "2021-07-29T13:53:03.165569",
     "status": "completed"
    },
    "tags": []
   },
   "outputs": [
    {
     "data": {
      "text/plain": [
       "<AxesSubplot:xlabel='SibSp', ylabel='count'>"
      ]
     },
     "execution_count": 20,
     "metadata": {},
     "output_type": "execute_result"
    },
    {
     "data": {
      "image/png": "[encoded data removed]",
      "text/plain": [
       "<Figure size 432x288 with 1 Axes>"
      ]
     },
     "metadata": {
      "needs_background": "light"
     },
     "output_type": "display_data"
    }
   ],
   "source": [
    "sns.countplot(x='SibSp',data=df)\n",
    "#most of the passengers are alone travellers"
   ]
  },
  {
   "cell_type": "code",
   "execution_count": 21,
   "id": "44d5ff54",
   "metadata": {
    "execution": {
     "iopub.execute_input": "2021-07-29T13:53:03.533947Z",
     "iopub.status.busy": "2021-07-29T13:53:03.533308Z",
     "iopub.status.idle": "2021-07-29T13:53:03.793360Z",
     "shell.execute_reply": "2021-07-29T13:53:03.793859Z",
     "shell.execute_reply.started": "2021-07-29T13:46:08.183248Z"
    },
    "papermill": {
     "duration": 0.326585,
     "end_time": "2021-07-29T13:53:03.794081",
     "exception": false,
     "start_time": "2021-07-29T13:53:03.467496",
     "status": "completed"
    },
    "tags": []
   },
   "outputs": [
    {
     "data": {
      "text/plain": [
       "<AxesSubplot:xlabel='Survived', ylabel='count'>"
      ]
     },
     "execution_count": 21,
     "metadata": {},
     "output_type": "execute_result"
    },
    {
     "data": {
      "image/png": "[encoded data removed]",
      "text/plain": [
       "<Figure size 432x288 with 1 Axes>"
      ]
     },
     "metadata": {
      "needs_background": "light"
     },
     "output_type": "display_data"
    }
   ],
   "source": [
    "#checking survived based on parch (siblings / spouses )\n",
    "sns.countplot(x='Survived',hue='SibSp',data=df)"
   ]
  },
  {
   "cell_type": "code",
   "execution_count": 22,
   "id": "023c209d",
   "metadata": {
    "execution": {
     "iopub.execute_input": "2021-07-29T13:53:03.927426Z",
     "iopub.status.busy": "2021-07-29T13:53:03.926680Z",
     "iopub.status.idle": "2021-07-29T13:53:04.162981Z",
     "shell.execute_reply": "2021-07-29T13:53:04.163513Z",
     "shell.execute_reply.started": "2021-07-29T13:46:08.475100Z"
    },
    "papermill": {
     "duration": 0.305033,
     "end_time": "2021-07-29T13:53:04.163732",
     "exception": false,
     "start_time": "2021-07-29T13:53:03.858699",
     "status": "completed"
    },
    "tags": []
   },
   "outputs": [
    {
     "data": {
      "text/plain": [
       "<AxesSubplot:xlabel='Fare', ylabel='Count'>"
      ]
     },
     "execution_count": 22,
     "metadata": {},
     "output_type": "execute_result"
    },
    {
     "data": {
      "image/png": "[encoded data removed]",
      "text/plain": [
       "<Figure size 432x288 with 1 Axes>"
      ]
     },
     "metadata": {
      "needs_background": "light"
     },
     "output_type": "display_data"
    }
   ],
   "source": [
    "#using histogram visualizing the count of ticket fare\n",
    "sns.histplot(x=df['Fare'],kde=False,bins=30)\n",
    "#most of the passengers are low fare travellers"
   ]
  },
  {
   "cell_type": "code",
   "execution_count": 23,
   "id": "20fec106",
   "metadata": {
    "execution": {
     "iopub.execute_input": "2021-07-29T13:53:04.299527Z",
     "iopub.status.busy": "2021-07-29T13:53:04.298807Z",
     "iopub.status.idle": "2021-07-29T13:53:04.332088Z",
     "shell.execute_reply": "2021-07-29T13:53:04.332661Z",
     "shell.execute_reply.started": "2021-07-29T13:46:08.727574Z"
    },
    "papermill": {
     "duration": 0.102644,
     "end_time": "2021-07-29T13:53:04.332855",
     "exception": false,
     "start_time": "2021-07-29T13:53:04.230211",
     "status": "completed"
    },
    "tags": []
   },
   "outputs": [
    {
     "data": {
      "text/html": [
       "<div>\n",
       "<style scoped>\n",
       "    .dataframe tbody tr th:only-of-type {\n",
       "        vertical-align: middle;\n",
       "    }\n",
       "\n",
       "    .dataframe tbody tr th {\n",
       "        vertical-align: top;\n",
       "    }\n",
       "\n",
       "    .dataframe thead th {\n",
       "        text-align: right;\n",
       "    }\n",
       "</style>\n",
       "<table border=\"1\" class=\"dataframe\">\n",
       "  <thead>\n",
       "    <tr style=\"text-align: right;\">\n",
       "      <th></th>\n",
       "      <th>Survived</th>\n",
       "      <th>0</th>\n",
       "      <th>1</th>\n",
       "    </tr>\n",
       "    <tr>\n",
       "      <th>Pclass</th>\n",
       "      <th>SibSp</th>\n",
       "      <th></th>\n",
       "      <th></th>\n",
       "    </tr>\n",
       "  </thead>\n",
       "  <tbody>\n",
       "    <tr>\n",
       "      <th rowspan=\"4\" valign=\"top\">1</th>\n",
       "      <th>0</th>\n",
       "      <td>60</td>\n",
       "      <td>77</td>\n",
       "    </tr>\n",
       "    <tr>\n",
       "      <th>1</th>\n",
       "      <td>18</td>\n",
       "      <td>53</td>\n",
       "    </tr>\n",
       "    <tr>\n",
       "      <th>2</th>\n",
       "      <td>1</td>\n",
       "      <td>4</td>\n",
       "    </tr>\n",
       "    <tr>\n",
       "      <th>3</th>\n",
       "      <td>1</td>\n",
       "      <td>2</td>\n",
       "    </tr>\n",
       "    <tr>\n",
       "      <th rowspan=\"4\" valign=\"top\">2</th>\n",
       "      <th>0</th>\n",
       "      <td>70</td>\n",
       "      <td>50</td>\n",
       "    </tr>\n",
       "    <tr>\n",
       "      <th>1</th>\n",
       "      <td>23</td>\n",
       "      <td>32</td>\n",
       "    </tr>\n",
       "    <tr>\n",
       "      <th>2</th>\n",
       "      <td>4</td>\n",
       "      <td>4</td>\n",
       "    </tr>\n",
       "    <tr>\n",
       "      <th>3</th>\n",
       "      <td>0</td>\n",
       "      <td>1</td>\n",
       "    </tr>\n",
       "    <tr>\n",
       "      <th rowspan=\"7\" valign=\"top\">3</th>\n",
       "      <th>0</th>\n",
       "      <td>268</td>\n",
       "      <td>83</td>\n",
       "    </tr>\n",
       "    <tr>\n",
       "      <th>1</th>\n",
       "      <td>56</td>\n",
       "      <td>27</td>\n",
       "    </tr>\n",
       "    <tr>\n",
       "      <th>2</th>\n",
       "      <td>10</td>\n",
       "      <td>5</td>\n",
       "    </tr>\n",
       "    <tr>\n",
       "      <th>3</th>\n",
       "      <td>11</td>\n",
       "      <td>1</td>\n",
       "    </tr>\n",
       "    <tr>\n",
       "      <th>4</th>\n",
       "      <td>15</td>\n",
       "      <td>3</td>\n",
       "    </tr>\n",
       "    <tr>\n",
       "      <th>5</th>\n",
       "      <td>5</td>\n",
       "      <td>0</td>\n",
       "    </tr>\n",
       "    <tr>\n",
       "      <th>8</th>\n",
       "      <td>7</td>\n",
       "      <td>0</td>\n",
       "    </tr>\n",
       "  </tbody>\n",
       "</table>\n",
       "</div>"
      ],
      "text/plain": [
       "Survived        0   1\n",
       "Pclass SibSp         \n",
       "1      0       60  77\n",
       "       1       18  53\n",
       "       2        1   4\n",
       "       3        1   2\n",
       "2      0       70  50\n",
       "       1       23  32\n",
       "       2        4   4\n",
       "       3        0   1\n",
       "3      0      268  83\n",
       "       1       56  27\n",
       "       2       10   5\n",
       "       3       11   1\n",
       "       4       15   3\n",
       "       5        5   0\n",
       "       8        7   0"
      ]
     },
     "execution_count": 23,
     "metadata": {},
     "output_type": "execute_result"
    }
   ],
   "source": [
    "pd.crosstab([df['Pclass'],df['SibSp']],columns=df['Survived'])"
   ]
  },
  {
   "cell_type": "code",
   "execution_count": 24,
   "id": "46429fd9",
   "metadata": {
    "execution": {
     "iopub.execute_input": "2021-07-29T13:53:04.468979Z",
     "iopub.status.busy": "2021-07-29T13:53:04.467869Z",
     "iopub.status.idle": "2021-07-29T13:53:04.674712Z",
     "shell.execute_reply": "2021-07-29T13:53:04.675383Z",
     "shell.execute_reply.started": "2021-07-29T13:46:08.761272Z"
    },
    "papermill": {
     "duration": 0.276861,
     "end_time": "2021-07-29T13:53:04.675593",
     "exception": false,
     "start_time": "2021-07-29T13:53:04.398732",
     "status": "completed"
    },
    "tags": []
   },
   "outputs": [
    {
     "data": {
      "text/plain": [
       "<AxesSubplot:xlabel='Pclass', ylabel='Age'>"
      ]
     },
     "execution_count": 24,
     "metadata": {},
     "output_type": "execute_result"
    },
    {
     "data": {
      "image/png": "[encoded data removed]",
      "text/plain": [
       "<Figure size 864x504 with 1 Axes>"
      ]
     },
     "metadata": {
      "needs_background": "light"
     },
     "output_type": "display_data"
    }
   ],
   "source": [
    "#Data cleaning\n",
    "#most of age value is missing so filling age out by the median age of the pclass\n",
    "\n",
    "plt.figure(figsize=(12, 7))\n",
    "sns.boxplot(x='Pclass',y='Age',data=df)"
   ]
  },
  {
   "cell_type": "code",
   "execution_count": 25,
   "id": "83bde58a",
   "metadata": {
    "execution": {
     "iopub.execute_input": "2021-07-29T13:53:04.814441Z",
     "iopub.status.busy": "2021-07-29T13:53:04.813417Z",
     "iopub.status.idle": "2021-07-29T13:53:04.819677Z",
     "shell.execute_reply": "2021-07-29T13:53:04.820183Z",
     "shell.execute_reply.started": "2021-07-29T13:46:08.990474Z"
    },
    "papermill": {
     "duration": 0.077441,
     "end_time": "2021-07-29T13:53:04.820400",
     "exception": false,
     "start_time": "2021-07-29T13:53:04.742959",
     "status": "completed"
    },
    "tags": []
   },
   "outputs": [],
   "source": [
    "#The median age of pclass 1 is 37,pclass 2 is 29 and pclass 3 is 25 Creating a function to fill the missing age values\n",
    "\n",
    "def fill_age(col):\n",
    "    Age=col[0]\n",
    "    Pclass=col[1]\n",
    "    if pd.isnull(Age):\n",
    "        if Pclass == 1:\n",
    "            return 37\n",
    "        elif Pclass == 2:\n",
    "            return 29\n",
    "        else:\n",
    "            return 25\n",
    "    else:\n",
    "        return Age"
   ]
  },
  {
   "cell_type": "code",
   "execution_count": 26,
   "id": "f10d806e",
   "metadata": {
    "execution": {
     "iopub.execute_input": "2021-07-29T13:53:04.961415Z",
     "iopub.status.busy": "2021-07-29T13:53:04.960362Z",
     "iopub.status.idle": "2021-07-29T13:53:04.992554Z",
     "shell.execute_reply": "2021-07-29T13:53:04.993057Z",
     "shell.execute_reply.started": "2021-07-29T13:46:09.001369Z"
    },
    "papermill": {
     "duration": 0.104738,
     "end_time": "2021-07-29T13:53:04.993297",
     "exception": false,
     "start_time": "2021-07-29T13:53:04.888559",
     "status": "completed"
    },
    "tags": []
   },
   "outputs": [],
   "source": [
    "#applying age with apply function\n",
    "df['Age'] = df[['Age','Pclass']].apply(fill_age,axis=1)\n",
    "#applying age to test data with apply function\n",
    "df_test['Age'] = df_test[['Age','Pclass']].apply(fill_age,axis=1)"
   ]
  },
  {
   "cell_type": "code",
   "execution_count": 27,
   "id": "d01978e5",
   "metadata": {
    "execution": {
     "iopub.execute_input": "2021-07-29T13:53:05.132204Z",
     "iopub.status.busy": "2021-07-29T13:53:05.131206Z",
     "iopub.status.idle": "2021-07-29T13:53:05.142759Z",
     "shell.execute_reply": "2021-07-29T13:53:05.142059Z",
     "shell.execute_reply.started": "2021-07-29T13:46:09.050396Z"
    },
    "papermill": {
     "duration": 0.082547,
     "end_time": "2021-07-29T13:53:05.142915",
     "exception": false,
     "start_time": "2021-07-29T13:53:05.060368",
     "status": "completed"
    },
    "tags": []
   },
   "outputs": [
    {
     "data": {
      "text/plain": [
       "PassengerId    891\n",
       "Survived       891\n",
       "Pclass         891\n",
       "Name           891\n",
       "Sex            891\n",
       "Age            891\n",
       "SibSp          891\n",
       "Parch          891\n",
       "Ticket         891\n",
       "Fare           891\n",
       "Cabin          204\n",
       "Embarked       889\n",
       "dtype: int64"
      ]
     },
     "execution_count": 27,
     "metadata": {},
     "output_type": "execute_result"
    }
   ],
   "source": [
    "df.count()"
   ]
  },
  {
   "cell_type": "code",
   "execution_count": 28,
   "id": "88e386f0",
   "metadata": {
    "execution": {
     "iopub.execute_input": "2021-07-29T13:53:05.285311Z",
     "iopub.status.busy": "2021-07-29T13:53:05.284283Z",
     "iopub.status.idle": "2021-07-29T13:53:05.292603Z",
     "shell.execute_reply": "2021-07-29T13:53:05.293162Z",
     "shell.execute_reply.started": "2021-07-29T13:46:09.073297Z"
    },
    "papermill": {
     "duration": 0.08314,
     "end_time": "2021-07-29T13:53:05.293372",
     "exception": false,
     "start_time": "2021-07-29T13:53:05.210232",
     "status": "completed"
    },
    "tags": []
   },
   "outputs": [
    {
     "data": {
      "text/plain": [
       "PassengerId    418\n",
       "Pclass         418\n",
       "Name           418\n",
       "Sex            418\n",
       "Age            418\n",
       "SibSp          418\n",
       "Parch          418\n",
       "Ticket         418\n",
       "Fare           418\n",
       "Cabin           91\n",
       "Embarked       418\n",
       "dtype: int64"
      ]
     },
     "execution_count": 28,
     "metadata": {},
     "output_type": "execute_result"
    }
   ],
   "source": [
    "df_test.count()"
   ]
  },
  {
   "cell_type": "code",
   "execution_count": 29,
   "id": "a9fccbe3",
   "metadata": {
    "execution": {
     "iopub.execute_input": "2021-07-29T13:53:05.433632Z",
     "iopub.status.busy": "2021-07-29T13:53:05.432571Z",
     "iopub.status.idle": "2021-07-29T13:53:05.909486Z",
     "shell.execute_reply": "2021-07-29T13:53:05.909973Z",
     "shell.execute_reply.started": "2021-07-29T13:46:09.098458Z"
    },
    "papermill": {
     "duration": 0.549307,
     "end_time": "2021-07-29T13:53:05.910202",
     "exception": false,
     "start_time": "2021-07-29T13:53:05.360895",
     "status": "completed"
    },
    "tags": []
   },
   "outputs": [
    {
     "data": {
      "text/plain": [
       "<AxesSubplot:>"
      ]
     },
     "execution_count": 29,
     "metadata": {},
     "output_type": "execute_result"
    },
    {
     "data": {
      "image/png": "[encoded data removed]",
      "text/plain": [
       "<Figure size 432x288 with 2 Axes>"
      ]
     },
     "metadata": {
      "needs_background": "light"
     },
     "output_type": "display_data"
    }
   ],
   "source": [
    "sns.heatmap(df.isnull(),yticklabels='auto',cmap='cividis')"
   ]
  },
  {
   "cell_type": "code",
   "execution_count": 30,
   "id": "bc83085c",
   "metadata": {
    "execution": {
     "iopub.execute_input": "2021-07-29T13:53:06.054749Z",
     "iopub.status.busy": "2021-07-29T13:53:06.053711Z",
     "iopub.status.idle": "2021-07-29T13:53:06.517933Z",
     "shell.execute_reply": "2021-07-29T13:53:06.518464Z",
     "shell.execute_reply.started": "2021-07-29T13:46:09.655793Z"
    },
    "papermill": {
     "duration": 0.537826,
     "end_time": "2021-07-29T13:53:06.518683",
     "exception": false,
     "start_time": "2021-07-29T13:53:05.980857",
     "status": "completed"
    },
    "tags": []
   },
   "outputs": [
    {
     "data": {
      "text/plain": [
       "<AxesSubplot:>"
      ]
     },
     "execution_count": 30,
     "metadata": {},
     "output_type": "execute_result"
    },
    {
     "data": {
      "image/png": "[encoded data removed]",
      "text/plain": [
       "<Figure size 432x288 with 2 Axes>"
      ]
     },
     "metadata": {
      "needs_background": "light"
     },
     "output_type": "display_data"
    }
   ],
   "source": [
    "sns.heatmap(df_test.isnull(),yticklabels='auto',cmap='cividis')"
   ]
  },
  {
   "cell_type": "code",
   "execution_count": 31,
   "id": "054cee7e",
   "metadata": {
    "execution": {
     "iopub.execute_input": "2021-07-29T13:53:06.662830Z",
     "iopub.status.busy": "2021-07-29T13:53:06.661784Z",
     "iopub.status.idle": "2021-07-29T13:53:06.668747Z",
     "shell.execute_reply": "2021-07-29T13:53:06.669233Z",
     "shell.execute_reply.started": "2021-07-29T13:46:10.167805Z"
    },
    "papermill": {
     "duration": 0.080801,
     "end_time": "2021-07-29T13:53:06.669433",
     "exception": false,
     "start_time": "2021-07-29T13:53:06.588632",
     "status": "completed"
    },
    "tags": []
   },
   "outputs": [],
   "source": [
    "#droping cabin for both train and test data\n",
    "df.drop('Cabin',axis=1,inplace=True)\n",
    "df_test.drop('Cabin',axis=1,inplace=True)"
   ]
  },
  {
   "cell_type": "code",
   "execution_count": 32,
   "id": "6d39d3f2",
   "metadata": {
    "execution": {
     "iopub.execute_input": "2021-07-29T13:53:06.815484Z",
     "iopub.status.busy": "2021-07-29T13:53:06.814383Z",
     "iopub.status.idle": "2021-07-29T13:53:06.824941Z",
     "shell.execute_reply": "2021-07-29T13:53:06.825487Z",
     "shell.execute_reply.started": "2021-07-29T13:46:10.179192Z"
    },
    "papermill": {
     "duration": 0.086248,
     "end_time": "2021-07-29T13:53:06.825693",
     "exception": false,
     "start_time": "2021-07-29T13:53:06.739445",
     "status": "completed"
    },
    "tags": []
   },
   "outputs": [
    {
     "data": {
      "text/plain": [
       "PassengerId    891\n",
       "Survived       891\n",
       "Pclass         891\n",
       "Name           891\n",
       "Sex            891\n",
       "Age            891\n",
       "SibSp          891\n",
       "Parch          891\n",
       "Ticket         891\n",
       "Fare           891\n",
       "Embarked       889\n",
       "dtype: int64"
      ]
     },
     "execution_count": 32,
     "metadata": {},
     "output_type": "execute_result"
    }
   ],
   "source": [
    "df.count()"
   ]
  },
  {
   "cell_type": "code",
   "execution_count": 33,
   "id": "2cb5babd",
   "metadata": {
    "execution": {
     "iopub.execute_input": "2021-07-29T13:53:06.971842Z",
     "iopub.status.busy": "2021-07-29T13:53:06.971021Z",
     "iopub.status.idle": "2021-07-29T13:53:06.979756Z",
     "shell.execute_reply": "2021-07-29T13:53:06.980332Z",
     "shell.execute_reply.started": "2021-07-29T13:46:10.202395Z"
    },
    "papermill": {
     "duration": 0.083136,
     "end_time": "2021-07-29T13:53:06.980536",
     "exception": false,
     "start_time": "2021-07-29T13:53:06.897400",
     "status": "completed"
    },
    "tags": []
   },
   "outputs": [],
   "source": [
    "df.dropna(inplace=True)"
   ]
  },
  {
   "cell_type": "code",
   "execution_count": 34,
   "id": "cd8024c7",
   "metadata": {
    "execution": {
     "iopub.execute_input": "2021-07-29T13:53:07.126355Z",
     "iopub.status.busy": "2021-07-29T13:53:07.125675Z",
     "iopub.status.idle": "2021-07-29T13:53:07.136010Z",
     "shell.execute_reply": "2021-07-29T13:53:07.135473Z",
     "shell.execute_reply.started": "2021-07-29T13:46:10.215529Z"
    },
    "papermill": {
     "duration": 0.084526,
     "end_time": "2021-07-29T13:53:07.136195",
     "exception": false,
     "start_time": "2021-07-29T13:53:07.051669",
     "status": "completed"
    },
    "tags": []
   },
   "outputs": [
    {
     "data": {
      "text/plain": [
       "PassengerId    889\n",
       "Survived       889\n",
       "Pclass         889\n",
       "Name           889\n",
       "Sex            889\n",
       "Age            889\n",
       "SibSp          889\n",
       "Parch          889\n",
       "Ticket         889\n",
       "Fare           889\n",
       "Embarked       889\n",
       "dtype: int64"
      ]
     },
     "execution_count": 34,
     "metadata": {},
     "output_type": "execute_result"
    }
   ],
   "source": [
    "df.count()"
   ]
  },
  {
   "cell_type": "code",
   "execution_count": 35,
   "id": "82a852b7",
   "metadata": {
    "execution": {
     "iopub.execute_input": "2021-07-29T13:53:07.289530Z",
     "iopub.status.busy": "2021-07-29T13:53:07.288707Z",
     "iopub.status.idle": "2021-07-29T13:53:07.293116Z",
     "shell.execute_reply": "2021-07-29T13:53:07.293608Z",
     "shell.execute_reply.started": "2021-07-29T13:46:10.249025Z"
    },
    "papermill": {
     "duration": 0.08539,
     "end_time": "2021-07-29T13:53:07.293816",
     "exception": false,
     "start_time": "2021-07-29T13:53:07.208426",
     "status": "completed"
    },
    "tags": []
   },
   "outputs": [],
   "source": [
    "df_test.dropna(inplace=True)"
   ]
  },
  {
   "cell_type": "code",
   "execution_count": 36,
   "id": "b9b8edef",
   "metadata": {
    "execution": {
     "iopub.execute_input": "2021-07-29T13:53:07.448275Z",
     "iopub.status.busy": "2021-07-29T13:53:07.447315Z",
     "iopub.status.idle": "2021-07-29T13:53:07.451965Z",
     "shell.execute_reply": "2021-07-29T13:53:07.451435Z",
     "shell.execute_reply.started": "2021-07-29T13:46:10.263359Z"
    },
    "papermill": {
     "duration": 0.086755,
     "end_time": "2021-07-29T13:53:07.452127",
     "exception": false,
     "start_time": "2021-07-29T13:53:07.365372",
     "status": "completed"
    },
    "tags": []
   },
   "outputs": [
    {
     "data": {
      "text/plain": [
       "PassengerId    418\n",
       "Pclass         418\n",
       "Name           418\n",
       "Sex            418\n",
       "Age            418\n",
       "SibSp          418\n",
       "Parch          418\n",
       "Ticket         418\n",
       "Fare           418\n",
       "Embarked       418\n",
       "dtype: int64"
      ]
     },
     "execution_count": 36,
     "metadata": {},
     "output_type": "execute_result"
    }
   ],
   "source": [
    "df_test.count()"
   ]
  },
  {
   "cell_type": "code",
   "execution_count": 37,
   "id": "53f46230",
   "metadata": {
    "execution": {
     "iopub.execute_input": "2021-07-29T13:53:07.612241Z",
     "iopub.status.busy": "2021-07-29T13:53:07.611320Z",
     "iopub.status.idle": "2021-07-29T13:53:07.614847Z",
     "shell.execute_reply": "2021-07-29T13:53:07.615409Z",
     "shell.execute_reply.started": "2021-07-29T13:46:10.285248Z"
    },
    "papermill": {
     "duration": 0.092426,
     "end_time": "2021-07-29T13:53:07.615609",
     "exception": false,
     "start_time": "2021-07-29T13:53:07.523183",
     "status": "completed"
    },
    "tags": []
   },
   "outputs": [
    {
     "name": "stdout",
     "output_type": "stream",
     "text": [
      "<class 'pandas.core.frame.DataFrame'>\n",
      "Int64Index: 889 entries, 0 to 890\n",
      "Data columns (total 11 columns):\n",
      " #   Column       Non-Null Count  Dtype  \n",
      "---  ------       --------------  -----  \n",
      " 0   PassengerId  889 non-null    int64  \n",
      " 1   Survived     889 non-null    int64  \n",
      " 2   Pclass       889 non-null    int64  \n",
      " 3   Name         889 non-null    object \n",
      " 4   Sex          889 non-null    object \n",
      " 5   Age          889 non-null    float64\n",
      " 6   SibSp        889 non-null    int64  \n",
      " 7   Parch        889 non-null    int64  \n",
      " 8   Ticket       889 non-null    object \n",
      " 9   Fare         889 non-null    float64\n",
      " 10  Embarked     889 non-null    object \n",
      "dtypes: float64(2), int64(5), object(4)\n",
      "memory usage: 83.3+ KB\n"
     ]
    }
   ],
   "source": [
    "df.info()\n",
    "#need to drop name,fare,ticket\n",
    "#converting to variables"
   ]
  },
  {
   "cell_type": "code",
   "execution_count": 38,
   "id": "1ac51ccd",
   "metadata": {
    "execution": {
     "iopub.execute_input": "2021-07-29T13:53:07.762964Z",
     "iopub.status.busy": "2021-07-29T13:53:07.761924Z",
     "iopub.status.idle": "2021-07-29T13:53:07.769132Z",
     "shell.execute_reply": "2021-07-29T13:53:07.769901Z",
     "shell.execute_reply.started": "2021-07-29T13:46:10.315343Z"
    },
    "papermill": {
     "duration": 0.082918,
     "end_time": "2021-07-29T13:53:07.770144",
     "exception": false,
     "start_time": "2021-07-29T13:53:07.687226",
     "status": "completed"
    },
    "tags": []
   },
   "outputs": [],
   "source": [
    "Sex=pd.get_dummies(df['Sex'],drop_first=True)\n",
    "Embarked=pd.get_dummies(df['Embarked'],drop_first=True)"
   ]
  },
  {
   "cell_type": "code",
   "execution_count": 39,
   "id": "ff800ca7",
   "metadata": {
    "execution": {
     "iopub.execute_input": "2021-07-29T13:53:07.922138Z",
     "iopub.status.busy": "2021-07-29T13:53:07.921379Z",
     "iopub.status.idle": "2021-07-29T13:53:07.924678Z",
     "shell.execute_reply": "2021-07-29T13:53:07.924141Z",
     "shell.execute_reply.started": "2021-07-29T13:46:10.342459Z"
    },
    "papermill": {
     "duration": 0.081831,
     "end_time": "2021-07-29T13:53:07.924850",
     "exception": false,
     "start_time": "2021-07-29T13:53:07.843019",
     "status": "completed"
    },
    "tags": []
   },
   "outputs": [],
   "source": [
    "#droping name,sex,ticket,embarked,passenger id\n",
    "df.drop(['Sex','Name','Ticket','Embarked'],axis=1,inplace=True)"
   ]
  },
  {
   "cell_type": "code",
   "execution_count": 40,
   "id": "5b43f3be",
   "metadata": {
    "execution": {
     "iopub.execute_input": "2021-07-29T13:53:08.078814Z",
     "iopub.status.busy": "2021-07-29T13:53:08.077968Z",
     "iopub.status.idle": "2021-07-29T13:53:08.080952Z",
     "shell.execute_reply": "2021-07-29T13:53:08.080427Z",
     "shell.execute_reply.started": "2021-07-29T13:46:10.360344Z"
    },
    "papermill": {
     "duration": 0.082235,
     "end_time": "2021-07-29T13:53:08.081103",
     "exception": false,
     "start_time": "2021-07-29T13:53:07.998868",
     "status": "completed"
    },
    "tags": []
   },
   "outputs": [],
   "source": [
    "#concat the dummy varibales of sex and Embarked to main data frame\n",
    "df=pd.concat([df,Sex,Embarked],axis=1)"
   ]
  },
  {
   "cell_type": "code",
   "execution_count": 41,
   "id": "9ac57cad",
   "metadata": {
    "execution": {
     "iopub.execute_input": "2021-07-29T13:53:08.244048Z",
     "iopub.status.busy": "2021-07-29T13:53:08.243034Z",
     "iopub.status.idle": "2021-07-29T13:53:08.247911Z",
     "shell.execute_reply": "2021-07-29T13:53:08.247379Z",
     "shell.execute_reply.started": "2021-07-29T13:46:10.376239Z"
    },
    "papermill": {
     "duration": 0.093993,
     "end_time": "2021-07-29T13:53:08.248060",
     "exception": false,
     "start_time": "2021-07-29T13:53:08.154067",
     "status": "completed"
    },
    "tags": []
   },
   "outputs": [
    {
     "data": {
      "text/html": [
       "<div>\n",
       "<style scoped>\n",
       "    .dataframe tbody tr th:only-of-type {\n",
       "        vertical-align: middle;\n",
       "    }\n",
       "\n",
       "    .dataframe tbody tr th {\n",
       "        vertical-align: top;\n",
       "    }\n",
       "\n",
       "    .dataframe thead th {\n",
       "        text-align: right;\n",
       "    }\n",
       "</style>\n",
       "<table border=\"1\" class=\"dataframe\">\n",
       "  <thead>\n",
       "    <tr style=\"text-align: right;\">\n",
       "      <th></th>\n",
       "      <th>PassengerId</th>\n",
       "      <th>Survived</th>\n",
       "      <th>Pclass</th>\n",
       "      <th>Age</th>\n",
       "      <th>SibSp</th>\n",
       "      <th>Parch</th>\n",
       "      <th>Fare</th>\n",
       "      <th>male</th>\n",
       "      <th>Q</th>\n",
       "      <th>S</th>\n",
       "    </tr>\n",
       "  </thead>\n",
       "  <tbody>\n",
       "    <tr>\n",
       "      <th>0</th>\n",
       "      <td>1</td>\n",
       "      <td>0</td>\n",
       "      <td>3</td>\n",
       "      <td>22.0</td>\n",
       "      <td>1</td>\n",
       "      <td>0</td>\n",
       "      <td>7.2500</td>\n",
       "      <td>1</td>\n",
       "      <td>0</td>\n",
       "      <td>1</td>\n",
       "    </tr>\n",
       "    <tr>\n",
       "      <th>1</th>\n",
       "      <td>2</td>\n",
       "      <td>1</td>\n",
       "      <td>1</td>\n",
       "      <td>38.0</td>\n",
       "      <td>1</td>\n",
       "      <td>0</td>\n",
       "      <td>71.2833</td>\n",
       "      <td>0</td>\n",
       "      <td>0</td>\n",
       "      <td>0</td>\n",
       "    </tr>\n",
       "    <tr>\n",
       "      <th>2</th>\n",
       "      <td>3</td>\n",
       "      <td>1</td>\n",
       "      <td>3</td>\n",
       "      <td>26.0</td>\n",
       "      <td>0</td>\n",
       "      <td>0</td>\n",
       "      <td>7.9250</td>\n",
       "      <td>0</td>\n",
       "      <td>0</td>\n",
       "      <td>1</td>\n",
       "    </tr>\n",
       "    <tr>\n",
       "      <th>3</th>\n",
       "      <td>4</td>\n",
       "      <td>1</td>\n",
       "      <td>1</td>\n",
       "      <td>35.0</td>\n",
       "      <td>1</td>\n",
       "      <td>0</td>\n",
       "      <td>53.1000</td>\n",
       "      <td>0</td>\n",
       "      <td>0</td>\n",
       "      <td>1</td>\n",
       "    </tr>\n",
       "    <tr>\n",
       "      <th>4</th>\n",
       "      <td>5</td>\n",
       "      <td>0</td>\n",
       "      <td>3</td>\n",
       "      <td>35.0</td>\n",
       "      <td>0</td>\n",
       "      <td>0</td>\n",
       "      <td>8.0500</td>\n",
       "      <td>1</td>\n",
       "      <td>0</td>\n",
       "      <td>1</td>\n",
       "    </tr>\n",
       "  </tbody>\n",
       "</table>\n",
       "</div>"
      ],
      "text/plain": [
       "   PassengerId  Survived  Pclass   Age  SibSp  Parch     Fare  male  Q  S\n",
       "0            1         0       3  22.0      1      0   7.2500     1  0  1\n",
       "1            2         1       1  38.0      1      0  71.2833     0  0  0\n",
       "2            3         1       3  26.0      0      0   7.9250     0  0  1\n",
       "3            4         1       1  35.0      1      0  53.1000     0  0  1\n",
       "4            5         0       3  35.0      0      0   8.0500     1  0  1"
      ]
     },
     "execution_count": 41,
     "metadata": {},
     "output_type": "execute_result"
    }
   ],
   "source": [
    "df.head()"
   ]
  },
  {
   "cell_type": "code",
   "execution_count": 42,
   "id": "c45a32f7",
   "metadata": {
    "execution": {
     "iopub.execute_input": "2021-07-29T13:53:08.396324Z",
     "iopub.status.busy": "2021-07-29T13:53:08.395576Z",
     "iopub.status.idle": "2021-07-29T13:53:08.411732Z",
     "shell.execute_reply": "2021-07-29T13:53:08.412274Z",
     "shell.execute_reply.started": "2021-07-29T13:46:10.400861Z"
    },
    "papermill": {
     "duration": 0.092142,
     "end_time": "2021-07-29T13:53:08.412472",
     "exception": false,
     "start_time": "2021-07-29T13:53:08.320330",
     "status": "completed"
    },
    "tags": []
   },
   "outputs": [
    {
     "data": {
      "text/html": [
       "<div>\n",
       "<style scoped>\n",
       "    .dataframe tbody tr th:only-of-type {\n",
       "        vertical-align: middle;\n",
       "    }\n",
       "\n",
       "    .dataframe tbody tr th {\n",
       "        vertical-align: top;\n",
       "    }\n",
       "\n",
       "    .dataframe thead th {\n",
       "        text-align: right;\n",
       "    }\n",
       "</style>\n",
       "<table border=\"1\" class=\"dataframe\">\n",
       "  <thead>\n",
       "    <tr style=\"text-align: right;\">\n",
       "      <th></th>\n",
       "      <th>PassengerId</th>\n",
       "      <th>Pclass</th>\n",
       "      <th>Name</th>\n",
       "      <th>Sex</th>\n",
       "      <th>Age</th>\n",
       "      <th>SibSp</th>\n",
       "      <th>Parch</th>\n",
       "      <th>Ticket</th>\n",
       "      <th>Fare</th>\n",
       "      <th>Embarked</th>\n",
       "    </tr>\n",
       "  </thead>\n",
       "  <tbody>\n",
       "    <tr>\n",
       "      <th>0</th>\n",
       "      <td>892</td>\n",
       "      <td>3</td>\n",
       "      <td>Kelly, Mr. James</td>\n",
       "      <td>male</td>\n",
       "      <td>34.5</td>\n",
       "      <td>0</td>\n",
       "      <td>0</td>\n",
       "      <td>330911</td>\n",
       "      <td>7.8292</td>\n",
       "      <td>Q</td>\n",
       "    </tr>\n",
       "    <tr>\n",
       "      <th>1</th>\n",
       "      <td>893</td>\n",
       "      <td>3</td>\n",
       "      <td>Wilkes, Mrs. James (Ellen Needs)</td>\n",
       "      <td>female</td>\n",
       "      <td>47.0</td>\n",
       "      <td>1</td>\n",
       "      <td>0</td>\n",
       "      <td>363272</td>\n",
       "      <td>7.0000</td>\n",
       "      <td>S</td>\n",
       "    </tr>\n",
       "    <tr>\n",
       "      <th>2</th>\n",
       "      <td>894</td>\n",
       "      <td>2</td>\n",
       "      <td>Myles, Mr. Thomas Francis</td>\n",
       "      <td>male</td>\n",
       "      <td>62.0</td>\n",
       "      <td>0</td>\n",
       "      <td>0</td>\n",
       "      <td>240276</td>\n",
       "      <td>9.6875</td>\n",
       "      <td>Q</td>\n",
       "    </tr>\n",
       "    <tr>\n",
       "      <th>3</th>\n",
       "      <td>895</td>\n",
       "      <td>3</td>\n",
       "      <td>Wirz, Mr. Albert</td>\n",
       "      <td>male</td>\n",
       "      <td>27.0</td>\n",
       "      <td>0</td>\n",
       "      <td>0</td>\n",
       "      <td>315154</td>\n",
       "      <td>8.6625</td>\n",
       "      <td>S</td>\n",
       "    </tr>\n",
       "    <tr>\n",
       "      <th>4</th>\n",
       "      <td>896</td>\n",
       "      <td>3</td>\n",
       "      <td>Hirvonen, Mrs. Alexander (Helga E Lindqvist)</td>\n",
       "      <td>female</td>\n",
       "      <td>22.0</td>\n",
       "      <td>1</td>\n",
       "      <td>1</td>\n",
       "      <td>3101298</td>\n",
       "      <td>12.2875</td>\n",
       "      <td>S</td>\n",
       "    </tr>\n",
       "  </tbody>\n",
       "</table>\n",
       "</div>"
      ],
      "text/plain": [
       "   PassengerId  Pclass                                          Name     Sex  \\\n",
       "0          892       3                              Kelly, Mr. James    male   \n",
       "1          893       3              Wilkes, Mrs. James (Ellen Needs)  female   \n",
       "2          894       2                     Myles, Mr. Thomas Francis    male   \n",
       "3          895       3                              Wirz, Mr. Albert    male   \n",
       "4          896       3  Hirvonen, Mrs. Alexander (Helga E Lindqvist)  female   \n",
       "\n",
       "    Age  SibSp  Parch   Ticket     Fare Embarked  \n",
       "0  34.5      0      0   330911   7.8292        Q  \n",
       "1  47.0      1      0   363272   7.0000        S  \n",
       "2  62.0      0      0   240276   9.6875        Q  \n",
       "3  27.0      0      0   315154   8.6625        S  \n",
       "4  22.0      1      1  3101298  12.2875        S  "
      ]
     },
     "execution_count": 42,
     "metadata": {},
     "output_type": "execute_result"
    }
   ],
   "source": [
    "#clearng up the test data\n",
    "df_test.head()"
   ]
  },
  {
   "cell_type": "code",
   "execution_count": 43,
   "id": "6d4ac512",
   "metadata": {
    "execution": {
     "iopub.execute_input": "2021-07-29T13:53:08.571325Z",
     "iopub.status.busy": "2021-07-29T13:53:08.570592Z",
     "iopub.status.idle": "2021-07-29T13:53:08.588194Z",
     "shell.execute_reply": "2021-07-29T13:53:08.587506Z",
     "shell.execute_reply.started": "2021-07-29T13:46:10.429618Z"
    },
    "papermill": {
     "duration": 0.103165,
     "end_time": "2021-07-29T13:53:08.588371",
     "exception": false,
     "start_time": "2021-07-29T13:53:08.485206",
     "status": "completed"
    },
    "tags": []
   },
   "outputs": [],
   "source": [
    "df_test.dropna(inplace=True)"
   ]
  },
  {
   "cell_type": "code",
   "execution_count": 44,
   "id": "4314d665",
   "metadata": {
    "execution": {
     "iopub.execute_input": "2021-07-29T13:53:08.765001Z",
     "iopub.status.busy": "2021-07-29T13:53:08.763980Z",
     "iopub.status.idle": "2021-07-29T13:53:08.767744Z",
     "shell.execute_reply": "2021-07-29T13:53:08.768428Z",
     "shell.execute_reply.started": "2021-07-29T13:46:10.449337Z"
    },
    "papermill": {
     "duration": 0.099787,
     "end_time": "2021-07-29T13:53:08.768631",
     "exception": false,
     "start_time": "2021-07-29T13:53:08.668844",
     "status": "completed"
    },
    "tags": []
   },
   "outputs": [
    {
     "name": "stdout",
     "output_type": "stream",
     "text": [
      "<class 'pandas.core.frame.DataFrame'>\n",
      "Int64Index: 418 entries, 0 to 417\n",
      "Data columns (total 10 columns):\n",
      " #   Column       Non-Null Count  Dtype  \n",
      "---  ------       --------------  -----  \n",
      " 0   PassengerId  418 non-null    int64  \n",
      " 1   Pclass       418 non-null    int64  \n",
      " 2   Name         418 non-null    object \n",
      " 3   Sex          418 non-null    object \n",
      " 4   Age          418 non-null    float64\n",
      " 5   SibSp        418 non-null    int64  \n",
      " 6   Parch        418 non-null    int64  \n",
      " 7   Ticket       418 non-null    object \n",
      " 8   Fare         418 non-null    float64\n",
      " 9   Embarked     418 non-null    object \n",
      "dtypes: float64(2), int64(4), object(4)\n",
      "memory usage: 35.9+ KB\n"
     ]
    }
   ],
   "source": [
    "df_test.info()"
   ]
  },
  {
   "cell_type": "code",
   "execution_count": 45,
   "id": "cca67634",
   "metadata": {
    "execution": {
     "iopub.execute_input": "2021-07-29T13:53:08.932280Z",
     "iopub.status.busy": "2021-07-29T13:53:08.927542Z",
     "iopub.status.idle": "2021-07-29T13:53:08.935940Z",
     "shell.execute_reply": "2021-07-29T13:53:08.934961Z",
     "shell.execute_reply.started": "2021-07-29T13:46:10.474056Z"
    },
    "papermill": {
     "duration": 0.086483,
     "end_time": "2021-07-29T13:53:08.936205",
     "exception": false,
     "start_time": "2021-07-29T13:53:08.849722",
     "status": "completed"
    },
    "tags": []
   },
   "outputs": [],
   "source": [
    "Sex=pd.get_dummies(df_test['Sex'],drop_first=True)\n",
    "Embarked = pd.get_dummies(df_test['Embarked'],drop_first=True)"
   ]
  },
  {
   "cell_type": "code",
   "execution_count": 46,
   "id": "ff469085",
   "metadata": {
    "execution": {
     "iopub.execute_input": "2021-07-29T13:53:09.097797Z",
     "iopub.status.busy": "2021-07-29T13:53:09.096966Z",
     "iopub.status.idle": "2021-07-29T13:53:09.100430Z",
     "shell.execute_reply": "2021-07-29T13:53:09.099791Z",
     "shell.execute_reply.started": "2021-07-29T13:46:42.668484Z"
    },
    "papermill": {
     "duration": 0.086192,
     "end_time": "2021-07-29T13:53:09.100602",
     "exception": false,
     "start_time": "2021-07-29T13:53:09.014410",
     "status": "completed"
    },
    "tags": []
   },
   "outputs": [],
   "source": [
    "#droping values\n",
    "df_test.drop(['Sex','Name','Ticket','Embarked'],axis=1,inplace=True)"
   ]
  },
  {
   "cell_type": "code",
   "execution_count": 47,
   "id": "622ee267",
   "metadata": {
    "execution": {
     "iopub.execute_input": "2021-07-29T13:53:09.284078Z",
     "iopub.status.busy": "2021-07-29T13:53:09.282743Z",
     "iopub.status.idle": "2021-07-29T13:53:09.299110Z",
     "shell.execute_reply": "2021-07-29T13:53:09.298250Z",
     "shell.execute_reply.started": "2021-07-29T13:46:44.942754Z"
    },
    "papermill": {
     "duration": 0.124622,
     "end_time": "2021-07-29T13:53:09.299346",
     "exception": false,
     "start_time": "2021-07-29T13:53:09.174724",
     "status": "completed"
    },
    "tags": []
   },
   "outputs": [
    {
     "data": {
      "text/html": [
       "<div>\n",
       "<style scoped>\n",
       "    .dataframe tbody tr th:only-of-type {\n",
       "        vertical-align: middle;\n",
       "    }\n",
       "\n",
       "    .dataframe tbody tr th {\n",
       "        vertical-align: top;\n",
       "    }\n",
       "\n",
       "    .dataframe thead th {\n",
       "        text-align: right;\n",
       "    }\n",
       "</style>\n",
       "<table border=\"1\" class=\"dataframe\">\n",
       "  <thead>\n",
       "    <tr style=\"text-align: right;\">\n",
       "      <th></th>\n",
       "      <th>PassengerId</th>\n",
       "      <th>Pclass</th>\n",
       "      <th>Age</th>\n",
       "      <th>SibSp</th>\n",
       "      <th>Parch</th>\n",
       "      <th>Fare</th>\n",
       "    </tr>\n",
       "  </thead>\n",
       "  <tbody>\n",
       "    <tr>\n",
       "      <th>0</th>\n",
       "      <td>892</td>\n",
       "      <td>3</td>\n",
       "      <td>34.5</td>\n",
       "      <td>0</td>\n",
       "      <td>0</td>\n",
       "      <td>7.8292</td>\n",
       "    </tr>\n",
       "    <tr>\n",
       "      <th>1</th>\n",
       "      <td>893</td>\n",
       "      <td>3</td>\n",
       "      <td>47.0</td>\n",
       "      <td>1</td>\n",
       "      <td>0</td>\n",
       "      <td>7.0000</td>\n",
       "    </tr>\n",
       "    <tr>\n",
       "      <th>2</th>\n",
       "      <td>894</td>\n",
       "      <td>2</td>\n",
       "      <td>62.0</td>\n",
       "      <td>0</td>\n",
       "      <td>0</td>\n",
       "      <td>9.6875</td>\n",
       "    </tr>\n",
       "    <tr>\n",
       "      <th>3</th>\n",
       "      <td>895</td>\n",
       "      <td>3</td>\n",
       "      <td>27.0</td>\n",
       "      <td>0</td>\n",
       "      <td>0</td>\n",
       "      <td>8.6625</td>\n",
       "    </tr>\n",
       "    <tr>\n",
       "      <th>4</th>\n",
       "      <td>896</td>\n",
       "      <td>3</td>\n",
       "      <td>22.0</td>\n",
       "      <td>1</td>\n",
       "      <td>1</td>\n",
       "      <td>12.2875</td>\n",
       "    </tr>\n",
       "  </tbody>\n",
       "</table>\n",
       "</div>"
      ],
      "text/plain": [
       "   PassengerId  Pclass   Age  SibSp  Parch     Fare\n",
       "0          892       3  34.5      0      0   7.8292\n",
       "1          893       3  47.0      1      0   7.0000\n",
       "2          894       2  62.0      0      0   9.6875\n",
       "3          895       3  27.0      0      0   8.6625\n",
       "4          896       3  22.0      1      1  12.2875"
      ]
     },
     "execution_count": 47,
     "metadata": {},
     "output_type": "execute_result"
    }
   ],
   "source": [
    "df_test.head()"
   ]
  },
  {
   "cell_type": "code",
   "execution_count": 48,
   "id": "3d332cbd",
   "metadata": {
    "execution": {
     "iopub.execute_input": "2021-07-29T13:53:09.472823Z",
     "iopub.status.busy": "2021-07-29T13:53:09.472070Z",
     "iopub.status.idle": "2021-07-29T13:53:09.474080Z",
     "shell.execute_reply": "2021-07-29T13:53:09.474636Z",
     "shell.execute_reply.started": "2021-07-29T13:46:54.786372Z"
    },
    "papermill": {
     "duration": 0.084912,
     "end_time": "2021-07-29T13:53:09.474841",
     "exception": false,
     "start_time": "2021-07-29T13:53:09.389929",
     "status": "completed"
    },
    "tags": []
   },
   "outputs": [],
   "source": [
    "#concating the sex and embarked in test data frame\n",
    "df_test=pd.concat([df_test,Sex,Embarked],axis=1)"
   ]
  },
  {
   "cell_type": "code",
   "execution_count": 49,
   "id": "f8435de4",
   "metadata": {
    "execution": {
     "iopub.execute_input": "2021-07-29T13:53:09.625974Z",
     "iopub.status.busy": "2021-07-29T13:53:09.625328Z",
     "iopub.status.idle": "2021-07-29T13:53:09.639758Z",
     "shell.execute_reply": "2021-07-29T13:53:09.640291Z",
     "shell.execute_reply.started": "2021-07-29T13:47:04.250329Z"
    },
    "papermill": {
     "duration": 0.091679,
     "end_time": "2021-07-29T13:53:09.640498",
     "exception": false,
     "start_time": "2021-07-29T13:53:09.548819",
     "status": "completed"
    },
    "tags": []
   },
   "outputs": [
    {
     "data": {
      "text/html": [
       "<div>\n",
       "<style scoped>\n",
       "    .dataframe tbody tr th:only-of-type {\n",
       "        vertical-align: middle;\n",
       "    }\n",
       "\n",
       "    .dataframe tbody tr th {\n",
       "        vertical-align: top;\n",
       "    }\n",
       "\n",
       "    .dataframe thead th {\n",
       "        text-align: right;\n",
       "    }\n",
       "</style>\n",
       "<table border=\"1\" class=\"dataframe\">\n",
       "  <thead>\n",
       "    <tr style=\"text-align: right;\">\n",
       "      <th></th>\n",
       "      <th>PassengerId</th>\n",
       "      <th>Pclass</th>\n",
       "      <th>Age</th>\n",
       "      <th>SibSp</th>\n",
       "      <th>Parch</th>\n",
       "      <th>Fare</th>\n",
       "      <th>male</th>\n",
       "      <th>Q</th>\n",
       "      <th>S</th>\n",
       "    </tr>\n",
       "  </thead>\n",
       "  <tbody>\n",
       "    <tr>\n",
       "      <th>0</th>\n",
       "      <td>892</td>\n",
       "      <td>3</td>\n",
       "      <td>34.5</td>\n",
       "      <td>0</td>\n",
       "      <td>0</td>\n",
       "      <td>7.8292</td>\n",
       "      <td>1</td>\n",
       "      <td>1</td>\n",
       "      <td>0</td>\n",
       "    </tr>\n",
       "    <tr>\n",
       "      <th>1</th>\n",
       "      <td>893</td>\n",
       "      <td>3</td>\n",
       "      <td>47.0</td>\n",
       "      <td>1</td>\n",
       "      <td>0</td>\n",
       "      <td>7.0000</td>\n",
       "      <td>0</td>\n",
       "      <td>0</td>\n",
       "      <td>1</td>\n",
       "    </tr>\n",
       "    <tr>\n",
       "      <th>2</th>\n",
       "      <td>894</td>\n",
       "      <td>2</td>\n",
       "      <td>62.0</td>\n",
       "      <td>0</td>\n",
       "      <td>0</td>\n",
       "      <td>9.6875</td>\n",
       "      <td>1</td>\n",
       "      <td>1</td>\n",
       "      <td>0</td>\n",
       "    </tr>\n",
       "    <tr>\n",
       "      <th>3</th>\n",
       "      <td>895</td>\n",
       "      <td>3</td>\n",
       "      <td>27.0</td>\n",
       "      <td>0</td>\n",
       "      <td>0</td>\n",
       "      <td>8.6625</td>\n",
       "      <td>1</td>\n",
       "      <td>0</td>\n",
       "      <td>1</td>\n",
       "    </tr>\n",
       "    <tr>\n",
       "      <th>4</th>\n",
       "      <td>896</td>\n",
       "      <td>3</td>\n",
       "      <td>22.0</td>\n",
       "      <td>1</td>\n",
       "      <td>1</td>\n",
       "      <td>12.2875</td>\n",
       "      <td>0</td>\n",
       "      <td>0</td>\n",
       "      <td>1</td>\n",
       "    </tr>\n",
       "  </tbody>\n",
       "</table>\n",
       "</div>"
      ],
      "text/plain": [
       "   PassengerId  Pclass   Age  SibSp  Parch     Fare  male  Q  S\n",
       "0          892       3  34.5      0      0   7.8292     1  1  0\n",
       "1          893       3  47.0      1      0   7.0000     0  0  1\n",
       "2          894       2  62.0      0      0   9.6875     1  1  0\n",
       "3          895       3  27.0      0      0   8.6625     1  0  1\n",
       "4          896       3  22.0      1      1  12.2875     0  0  1"
      ]
     },
     "execution_count": 49,
     "metadata": {},
     "output_type": "execute_result"
    }
   ],
   "source": [
    "df_test.head()"
   ]
  },
  {
   "cell_type": "code",
   "execution_count": 50,
   "id": "33ec55a3",
   "metadata": {
    "execution": {
     "iopub.execute_input": "2021-07-29T13:53:09.791658Z",
     "iopub.status.busy": "2021-07-29T13:53:09.790929Z",
     "iopub.status.idle": "2021-07-29T13:53:09.979022Z",
     "shell.execute_reply": "2021-07-29T13:53:09.978342Z",
     "shell.execute_reply.started": "2021-07-29T13:47:15.122950Z"
    },
    "papermill": {
     "duration": 0.264686,
     "end_time": "2021-07-29T13:53:09.979196",
     "exception": false,
     "start_time": "2021-07-29T13:53:09.714510",
     "status": "completed"
    },
    "tags": []
   },
   "outputs": [],
   "source": [
    "from sklearn.model_selection import train_test_split"
   ]
  },
  {
   "cell_type": "code",
   "execution_count": 51,
   "id": "93652045",
   "metadata": {
    "execution": {
     "iopub.execute_input": "2021-07-29T13:53:10.136875Z",
     "iopub.status.busy": "2021-07-29T13:53:10.135777Z",
     "iopub.status.idle": "2021-07-29T13:53:10.142793Z",
     "shell.execute_reply": "2021-07-29T13:53:10.143281Z",
     "shell.execute_reply.started": "2021-07-29T13:47:27.267206Z"
    },
    "papermill": {
     "duration": 0.088921,
     "end_time": "2021-07-29T13:53:10.143487",
     "exception": false,
     "start_time": "2021-07-29T13:53:10.054566",
     "status": "completed"
    },
    "tags": []
   },
   "outputs": [],
   "source": [
    "X_train, X_val, y_train, y_val = train_test_split(df.drop(['Survived','PassengerId'],axis=1), \n",
    "                                                    df['Survived'], test_size=0.20, \n",
    "                                                    random_state=101)"
   ]
  },
  {
   "cell_type": "code",
   "execution_count": 52,
   "id": "fbe7d985",
   "metadata": {
    "execution": {
     "iopub.execute_input": "2021-07-29T13:53:10.298621Z",
     "iopub.status.busy": "2021-07-29T13:53:10.297709Z",
     "iopub.status.idle": "2021-07-29T13:53:10.390702Z",
     "shell.execute_reply": "2021-07-29T13:53:10.389062Z",
     "shell.execute_reply.started": "2021-07-29T13:47:56.052984Z"
    },
    "papermill": {
     "duration": 0.172597,
     "end_time": "2021-07-29T13:53:10.390887",
     "exception": false,
     "start_time": "2021-07-29T13:53:10.218290",
     "status": "completed"
    },
    "tags": []
   },
   "outputs": [],
   "source": [
    "##Building a Logistic Regression model\n",
    "from sklearn.linear_model import LogisticRegression\n",
    "log_model = LogisticRegression(solver='liblinear')"
   ]
  },
  {
   "cell_type": "code",
   "execution_count": 53,
   "id": "446466ac",
   "metadata": {
    "execution": {
     "iopub.execute_input": "2021-07-29T13:53:10.548138Z",
     "iopub.status.busy": "2021-07-29T13:53:10.546993Z",
     "iopub.status.idle": "2021-07-29T13:53:10.685796Z",
     "shell.execute_reply": "2021-07-29T13:53:10.685222Z",
     "shell.execute_reply.started": "2021-07-29T13:48:06.520938Z"
    },
    "papermill": {
     "duration": 0.221066,
     "end_time": "2021-07-29T13:53:10.685958",
     "exception": false,
     "start_time": "2021-07-29T13:53:10.464892",
     "status": "completed"
    },
    "tags": []
   },
   "outputs": [
    {
     "data": {
      "text/plain": [
       "LogisticRegression(solver='liblinear')"
      ]
     },
     "execution_count": 53,
     "metadata": {},
     "output_type": "execute_result"
    }
   ],
   "source": [
    "log_model.fit(X_train,y_train)"
   ]
  },
  {
   "cell_type": "code",
   "execution_count": 54,
   "id": "7cedb2db",
   "metadata": {
    "execution": {
     "iopub.execute_input": "2021-07-29T13:53:10.846212Z",
     "iopub.status.busy": "2021-07-29T13:53:10.845257Z",
     "iopub.status.idle": "2021-07-29T13:53:10.848770Z",
     "shell.execute_reply": "2021-07-29T13:53:10.848193Z",
     "shell.execute_reply.started": "2021-07-29T13:48:18.712292Z"
    },
    "papermill": {
     "duration": 0.088584,
     "end_time": "2021-07-29T13:53:10.848936",
     "exception": false,
     "start_time": "2021-07-29T13:53:10.760352",
     "status": "completed"
    },
    "tags": []
   },
   "outputs": [],
   "source": [
    "predictions_log_model =log_model.predict(X_val)"
   ]
  },
  {
   "cell_type": "code",
   "execution_count": 55,
   "id": "477828e5",
   "metadata": {
    "execution": {
     "iopub.execute_input": "2021-07-29T13:53:11.007525Z",
     "iopub.status.busy": "2021-07-29T13:53:11.006663Z",
     "iopub.status.idle": "2021-07-29T13:53:11.009613Z",
     "shell.execute_reply": "2021-07-29T13:53:11.009029Z",
     "shell.execute_reply.started": "2021-07-29T13:48:27.971111Z"
    },
    "papermill": {
     "duration": 0.084434,
     "end_time": "2021-07-29T13:53:11.009784",
     "exception": false,
     "start_time": "2021-07-29T13:53:10.925350",
     "status": "completed"
    },
    "tags": []
   },
   "outputs": [],
   "source": [
    "from sklearn.metrics import classification_report"
   ]
  },
  {
   "cell_type": "code",
   "execution_count": 56,
   "id": "81427a1c",
   "metadata": {
    "execution": {
     "iopub.execute_input": "2021-07-29T13:53:11.167873Z",
     "iopub.status.busy": "2021-07-29T13:53:11.167170Z",
     "iopub.status.idle": "2021-07-29T13:53:11.176596Z",
     "shell.execute_reply": "2021-07-29T13:53:11.177170Z",
     "shell.execute_reply.started": "2021-07-29T13:48:37.885497Z"
    },
    "papermill": {
     "duration": 0.092216,
     "end_time": "2021-07-29T13:53:11.177396",
     "exception": false,
     "start_time": "2021-07-29T13:53:11.085180",
     "status": "completed"
    },
    "tags": []
   },
   "outputs": [
    {
     "name": "stdout",
     "output_type": "stream",
     "text": [
      "              precision    recall  f1-score   support\n",
      "\n",
      "           0       0.79      0.92      0.85       107\n",
      "           1       0.83      0.63      0.72        71\n",
      "\n",
      "    accuracy                           0.80       178\n",
      "   macro avg       0.81      0.77      0.78       178\n",
      "weighted avg       0.81      0.80      0.80       178\n",
      "\n"
     ]
    }
   ],
   "source": [
    "print(classification_report(y_val,predictions_log_model))"
   ]
  },
  {
   "cell_type": "code",
   "execution_count": 57,
   "id": "b69500c7",
   "metadata": {
    "execution": {
     "iopub.execute_input": "2021-07-29T13:53:11.336625Z",
     "iopub.status.busy": "2021-07-29T13:53:11.335073Z",
     "iopub.status.idle": "2021-07-29T13:53:11.340256Z",
     "shell.execute_reply": "2021-07-29T13:53:11.339675Z",
     "shell.execute_reply.started": "2021-07-29T13:48:50.719386Z"
    },
    "papermill": {
     "duration": 0.08751,
     "end_time": "2021-07-29T13:53:11.340427",
     "exception": false,
     "start_time": "2021-07-29T13:53:11.252917",
     "status": "completed"
    },
    "tags": []
   },
   "outputs": [],
   "source": [
    "X_test = df_test.drop('PassengerId',axis=1)"
   ]
  },
  {
   "cell_type": "code",
   "execution_count": 58,
   "id": "042e722d",
   "metadata": {
    "execution": {
     "iopub.execute_input": "2021-07-29T13:53:11.499209Z",
     "iopub.status.busy": "2021-07-29T13:53:11.498391Z",
     "iopub.status.idle": "2021-07-29T13:53:11.501536Z",
     "shell.execute_reply": "2021-07-29T13:53:11.500957Z",
     "shell.execute_reply.started": "2021-07-29T13:49:00.433581Z"
    },
    "papermill": {
     "duration": 0.085839,
     "end_time": "2021-07-29T13:53:11.501694",
     "exception": false,
     "start_time": "2021-07-29T13:53:11.415855",
     "status": "completed"
    },
    "tags": []
   },
   "outputs": [],
   "source": [
    "predictions_test_model_log = log_model.predict(X_test)"
   ]
  },
  {
   "cell_type": "code",
   "execution_count": 59,
   "id": "8bd31027",
   "metadata": {
    "execution": {
     "iopub.execute_input": "2021-07-29T13:53:11.660065Z",
     "iopub.status.busy": "2021-07-29T13:53:11.659010Z",
     "iopub.status.idle": "2021-07-29T13:53:11.663915Z",
     "shell.execute_reply": "2021-07-29T13:53:11.663393Z",
     "shell.execute_reply.started": "2021-07-29T13:49:10.077673Z"
    },
    "papermill": {
     "duration": 0.087055,
     "end_time": "2021-07-29T13:53:11.664078",
     "exception": false,
     "start_time": "2021-07-29T13:53:11.577023",
     "status": "completed"
    },
    "tags": []
   },
   "outputs": [
    {
     "data": {
      "text/plain": [
       "array([0, 0, 0, 0, 1, 0, 1, 0, 1, 0, 0, 0, 1, 0, 1, 1, 0, 0, 1, 1, 0, 0,\n",
       "       1, 0, 1, 0, 1, 0, 0, 0, 0, 0, 0, 1, 0, 0, 1, 1, 0, 0, 0, 0, 0, 1,\n",
       "       1, 0, 0, 0, 1, 1, 0, 0, 1, 1, 0, 0, 0, 0, 0, 1, 0, 0, 0, 1, 1, 1,\n",
       "       1, 0, 0, 1, 1, 0, 1, 0, 1, 1, 0, 1, 0, 1, 0, 0, 0, 0, 0, 0, 1, 1,\n",
       "       1, 0, 1, 0, 1, 0, 0, 0, 1, 0, 1, 0, 1, 0, 0, 0, 1, 0, 0, 0, 0, 0,\n",
       "       0, 1, 1, 1, 1, 0, 0, 1, 0, 1, 1, 0, 1, 0, 0, 1, 0, 1, 0, 0, 0, 0,\n",
       "       1, 0, 0, 0, 0, 0, 1, 0, 0, 1, 0, 0, 0, 0, 0, 0, 0, 0, 1, 0, 0, 1,\n",
       "       0, 0, 1, 1, 0, 1, 1, 0, 1, 0, 0, 1, 0, 0, 1, 1, 0, 0, 0, 0, 0, 1,\n",
       "       1, 0, 1, 1, 0, 0, 1, 0, 1, 0, 1, 0, 0, 0, 0, 0, 0, 0, 0, 0, 1, 1,\n",
       "       0, 1, 1, 0, 0, 1, 0, 0, 1, 0, 1, 0, 0, 0, 0, 1, 0, 0, 1, 0, 1, 0,\n",
       "       1, 0, 1, 0, 1, 1, 0, 1, 0, 0, 0, 1, 0, 0, 0, 0, 0, 0, 1, 1, 1, 1,\n",
       "       0, 0, 0, 0, 1, 0, 1, 1, 1, 0, 1, 0, 0, 0, 0, 0, 1, 0, 0, 0, 1, 1,\n",
       "       0, 0, 0, 0, 1, 0, 0, 0, 1, 1, 0, 1, 0, 0, 0, 0, 1, 0, 1, 1, 1, 0,\n",
       "       0, 0, 0, 0, 0, 1, 0, 0, 0, 0, 1, 0, 0, 0, 0, 0, 0, 0, 1, 1, 0, 0,\n",
       "       0, 0, 0, 0, 0, 1, 1, 1, 0, 0, 0, 0, 0, 0, 0, 0, 1, 0, 1, 0, 0, 0,\n",
       "       1, 0, 0, 1, 0, 0, 0, 0, 0, 0, 0, 0, 0, 1, 0, 1, 0, 1, 0, 1, 1, 0,\n",
       "       0, 0, 1, 0, 1, 0, 0, 1, 0, 1, 1, 0, 1, 0, 0, 1, 1, 0, 0, 1, 0, 0,\n",
       "       1, 1, 0, 0, 0, 0, 0, 0, 1, 1, 0, 1, 0, 0, 0, 0, 0, 1, 0, 0, 0, 1,\n",
       "       0, 1, 0, 0, 1, 0, 1, 0, 0, 0, 0, 0, 1, 1, 1, 1, 1, 0, 1, 0, 0, 0],\n",
       "      dtype=int64)"
      ]
     },
     "execution_count": 59,
     "metadata": {},
     "output_type": "execute_result"
    }
   ],
   "source": [
    "predictions_test_model_log"
   ]
  },
  {
   "cell_type": "code",
   "execution_count": 60,
   "id": "f5c2f0e8",
   "metadata": {
    "execution": {
     "iopub.execute_input": "2021-07-29T13:53:11.823244Z",
     "iopub.status.busy": "2021-07-29T13:53:11.822319Z",
     "iopub.status.idle": "2021-07-29T13:53:11.825234Z",
     "shell.execute_reply": "2021-07-29T13:53:11.824699Z",
     "shell.execute_reply.started": "2021-07-29T13:49:20.648614Z"
    },
    "papermill": {
     "duration": 0.085569,
     "end_time": "2021-07-29T13:53:11.825399",
     "exception": false,
     "start_time": "2021-07-29T13:53:11.739830",
     "status": "completed"
    },
    "tags": []
   },
   "outputs": [
    {
     "name": "stdout",
     "output_type": "stream",
     "text": [
      "              precision    recall  f1-score   support\n",
      "\n",
      "           0       0.79      0.92      0.85       107\n",
      "           1       0.83      0.63      0.72        71\n",
      "\n",
      "    accuracy                           0.80       178\n",
      "   macro avg       0.81      0.77      0.78       178\n",
      "weighted avg       0.81      0.80      0.80       178\n",
      "\n"
     ]
    }
   ],
   "source": [
    "print(classification_report(y_val,predictions_log_model))"
   ]
  },
  {
   "cell_type": "code",
   "execution_count": 61,
   "id": "f7b55f5b",
   "metadata": {
    "execution": {
     "iopub.execute_input": "2021-07-29T13:53:11.986976Z",
     "iopub.status.busy": "2021-07-29T13:53:11.986224Z",
     "iopub.status.idle": "2021-07-29T13:53:11.989777Z",
     "shell.execute_reply": "2021-07-29T13:53:11.989205Z",
     "shell.execute_reply.started": "2021-07-29T13:49:29.873647Z"
    },
    "papermill": {
     "duration": 0.088654,
     "end_time": "2021-07-29T13:53:11.989933",
     "exception": false,
     "start_time": "2021-07-29T13:53:11.901279",
     "status": "completed"
    },
    "tags": []
   },
   "outputs": [],
   "source": [
    "#decision tree model\n",
    "from sklearn.tree import DecisionTreeClassifier"
   ]
  },
  {
   "cell_type": "code",
   "execution_count": 62,
   "id": "59559785",
   "metadata": {},
   "outputs": [],
   "source": [
    "dtc = DecisionTreeClassifier()"
   ]
  },
  {
   "cell_type": "code",
   "execution_count": 63,
   "id": "2b5c0440",
   "metadata": {},
   "outputs": [
    {
     "data": {
      "text/plain": [
       "DecisionTreeClassifier()"
      ]
     },
     "execution_count": 63,
     "metadata": {},
     "output_type": "execute_result"
    }
   ],
   "source": [
    "dtc.fit(X_train,y_train)"
   ]
  },
  {
   "cell_type": "code",
   "execution_count": 64,
   "id": "cb0cab02",
   "metadata": {},
   "outputs": [],
   "source": [
    "predictions_tree_model =dtc.predict(X_val)"
   ]
  },
  {
   "cell_type": "code",
   "execution_count": 65,
   "id": "1e7df8b2",
   "metadata": {},
   "outputs": [
    {
     "name": "stdout",
     "output_type": "stream",
     "text": [
      "              precision    recall  f1-score   support\n",
      "\n",
      "           0       0.85      0.82      0.84       107\n",
      "           1       0.75      0.79      0.77        71\n",
      "\n",
      "    accuracy                           0.81       178\n",
      "   macro avg       0.80      0.81      0.80       178\n",
      "weighted avg       0.81      0.81      0.81       178\n",
      "\n"
     ]
    }
   ],
   "source": [
    "print(classification_report(y_val,predictions_tree_model))"
   ]
  },
  {
   "cell_type": "code",
   "execution_count": 70,
   "id": "87994564",
   "metadata": {},
   "outputs": [],
   "source": [
    "predict_test_tree=dtc.predict(X_test)"
   ]
  },
  {
   "cell_type": "code",
   "execution_count": 71,
   "id": "c3a4f1c2",
   "metadata": {},
   "outputs": [
    {
     "data": {
      "text/plain": [
       "array([0, 0, 1, 0, 1, 0, 0, 0, 1, 0, 0, 0, 1, 0, 1, 1, 0, 1, 1, 0, 1, 1,\n",
       "       1, 0, 1, 0, 1, 1, 1, 0, 0, 0, 1, 0, 1, 1, 0, 0, 0, 1, 0, 0, 0, 1,\n",
       "       1, 0, 1, 0, 1, 1, 1, 1, 1, 0, 0, 0, 0, 0, 0, 1, 0, 1, 0, 1, 1, 1,\n",
       "       1, 0, 0, 1, 1, 0, 0, 0, 1, 0, 0, 1, 0, 1, 1, 0, 0, 0, 1, 0, 1, 1,\n",
       "       1, 1, 1, 0, 0, 0, 0, 0, 1, 0, 0, 0, 1, 0, 0, 0, 1, 0, 0, 0, 0, 0,\n",
       "       0, 1, 1, 1, 1, 0, 1, 1, 0, 1, 1, 0, 1, 1, 0, 1, 0, 1, 0, 0, 0, 0,\n",
       "       0, 1, 0, 0, 0, 0, 0, 0, 0, 1, 0, 0, 0, 0, 0, 0, 0, 0, 1, 0, 1, 1,\n",
       "       0, 0, 1, 1, 0, 1, 1, 1, 1, 1, 0, 1, 1, 0, 1, 0, 0, 0, 0, 0, 0, 1,\n",
       "       1, 1, 1, 1, 0, 0, 1, 0, 1, 0, 1, 1, 0, 0, 0, 0, 1, 1, 1, 0, 1, 0,\n",
       "       0, 0, 1, 1, 0, 1, 0, 0, 0, 0, 1, 0, 0, 0, 0, 1, 0, 0, 1, 0, 1, 0,\n",
       "       1, 0, 0, 1, 1, 1, 0, 1, 0, 0, 0, 1, 0, 0, 1, 0, 0, 1, 1, 1, 1, 1,\n",
       "       0, 0, 0, 0, 1, 0, 1, 0, 1, 0, 0, 0, 0, 0, 0, 0, 1, 1, 0, 0, 1, 1,\n",
       "       1, 0, 0, 0, 0, 0, 0, 0, 1, 1, 0, 1, 0, 0, 0, 0, 0, 1, 1, 0, 1, 0,\n",
       "       0, 1, 0, 0, 0, 0, 0, 0, 0, 0, 1, 0, 0, 0, 0, 0, 0, 0, 1, 1, 0, 1,\n",
       "       0, 0, 0, 1, 0, 0, 1, 1, 1, 1, 0, 0, 0, 0, 0, 1, 1, 0, 1, 0, 0, 0,\n",
       "       1, 1, 0, 1, 0, 0, 1, 0, 0, 0, 1, 0, 0, 1, 0, 1, 0, 0, 0, 1, 1, 0,\n",
       "       0, 0, 1, 0, 1, 0, 0, 1, 0, 1, 1, 0, 1, 1, 0, 1, 1, 1, 0, 1, 0, 0,\n",
       "       1, 1, 0, 0, 1, 0, 0, 0, 0, 1, 1, 1, 0, 0, 0, 0, 1, 1, 1, 0, 0, 1,\n",
       "       0, 1, 0, 0, 1, 0, 1, 1, 0, 1, 0, 0, 1, 1, 1, 1, 0, 0, 1, 0, 0, 1],\n",
       "      dtype=int64)"
      ]
     },
     "execution_count": 71,
     "metadata": {},
     "output_type": "execute_result"
    }
   ],
   "source": [
    "predict_test_tree"
   ]
  },
  {
   "cell_type": "code",
   "execution_count": 74,
   "id": "352d49b6",
   "metadata": {},
   "outputs": [],
   "source": [
    "final=pd.DataFrame(predict_test_tree,columns=['Survived'])"
   ]
  },
  {
   "cell_type": "code",
   "execution_count": 75,
   "id": "41f02007",
   "metadata": {
    "execution": {
     "iopub.execute_input": "2021-07-29T13:53:12.149411Z",
     "iopub.status.busy": "2021-07-29T13:53:12.148589Z",
     "iopub.status.idle": "2021-07-29T13:53:12.151999Z",
     "shell.execute_reply": "2021-07-29T13:53:12.151336Z",
     "shell.execute_reply.started": "2021-07-29T13:49:41.704817Z"
    },
    "papermill": {
     "duration": 0.085307,
     "end_time": "2021-07-29T13:53:12.152174",
     "exception": false,
     "start_time": "2021-07-29T13:53:12.066867",
     "status": "completed"
    },
    "tags": []
   },
   "outputs": [],
   "source": [
    "#to avoid error while concating reseting the index of the paasenger data and final\n",
    "passsenger_data=df_test['PassengerId']\n",
    "passsenger_data.reset_index(drop=True, inplace=True)\n",
    "final.reset_index(drop=True, inplace=True)"
   ]
  },
  {
   "cell_type": "code",
   "execution_count": 76,
   "id": "cf13ec82",
   "metadata": {
    "execution": {
     "iopub.execute_input": "2021-07-29T13:53:12.312478Z",
     "iopub.status.busy": "2021-07-29T13:53:12.311706Z",
     "iopub.status.idle": "2021-07-29T13:53:12.315387Z",
     "shell.execute_reply": "2021-07-29T13:53:12.314741Z",
     "shell.execute_reply.started": "2021-07-29T13:49:52.344685Z"
    },
    "papermill": {
     "duration": 0.087254,
     "end_time": "2021-07-29T13:53:12.315557",
     "exception": false,
     "start_time": "2021-07-29T13:53:12.228303",
     "status": "completed"
    },
    "tags": []
   },
   "outputs": [],
   "source": [
    "final_submit =pd.concat([passsenger_data,final],axis=1)"
   ]
  },
  {
   "cell_type": "code",
   "execution_count": 77,
   "id": "67a1f8b9",
   "metadata": {
    "execution": {
     "iopub.execute_input": "2021-07-29T13:53:12.484925Z",
     "iopub.status.busy": "2021-07-29T13:53:12.483881Z",
     "iopub.status.idle": "2021-07-29T13:53:12.487620Z",
     "shell.execute_reply": "2021-07-29T13:53:12.488122Z",
     "shell.execute_reply.started": "2021-07-29T13:50:06.272723Z"
    },
    "papermill": {
     "duration": 0.095152,
     "end_time": "2021-07-29T13:53:12.488350",
     "exception": false,
     "start_time": "2021-07-29T13:53:12.393198",
     "status": "completed"
    },
    "tags": []
   },
   "outputs": [
    {
     "name": "stdout",
     "output_type": "stream",
     "text": [
      "<class 'pandas.core.frame.DataFrame'>\n",
      "RangeIndex: 418 entries, 0 to 417\n",
      "Data columns (total 2 columns):\n",
      " #   Column       Non-Null Count  Dtype\n",
      "---  ------       --------------  -----\n",
      " 0   PassengerId  418 non-null    int64\n",
      " 1   Survived     418 non-null    int64\n",
      "dtypes: int64(2)\n",
      "memory usage: 6.7 KB\n"
     ]
    }
   ],
   "source": [
    "final_submit.info()"
   ]
  },
  {
   "cell_type": "code",
   "execution_count": 78,
   "id": "84e72a1e",
   "metadata": {
    "execution": {
     "iopub.execute_input": "2021-07-29T13:53:12.647075Z",
     "iopub.status.busy": "2021-07-29T13:53:12.646362Z",
     "iopub.status.idle": "2021-07-29T13:53:12.655008Z",
     "shell.execute_reply": "2021-07-29T13:53:12.654386Z",
     "shell.execute_reply.started": "2021-07-29T13:52:35.290617Z"
    },
    "papermill": {
     "duration": 0.090284,
     "end_time": "2021-07-29T13:53:12.655198",
     "exception": false,
     "start_time": "2021-07-29T13:53:12.564914",
     "status": "completed"
    },
    "tags": []
   },
   "outputs": [],
   "source": [
    "final_submit.to_csv('titianic.csv', index=False)"
   ]
  },
  {
   "cell_type": "code",
   "execution_count": 3,
   "id": "3ec9ba19",
   "metadata": {},
   "outputs": [
    {
     "data": {
      "text/plain": [
       "1"
      ]
     },
     "execution_count": 3,
     "metadata": {},
     "output_type": "execute_result"
    }
   ],
   "source": [
    "\n"
   ]
  }
 ],
 "metadata": {
  "kernelspec": {
   "display_name": "Python 3",
   "language": "python",
   "name": "python3"
  },
  "language_info": {
   "codemirror_mode": {
    "name": "ipython",
    "version": 3
   },
   "file_extension": ".py",
   "mimetype": "text/x-python",
   "name": "python",
   "nbconvert_exporter": "python",
   "pygments_lexer": "ipython3",
   "version": "3.8.10"
  },
  "papermill": {
   "default_parameters": {},
   "duration": 24.87105,
   "end_time": "2021-07-29T13:53:13.945483",
   "environment_variables": {},
   "exception": null,
   "input_path": "__notebook__.ipynb",
   "output_path": "__notebook__.ipynb",
   "parameters": {},
   "start_time": "2021-07-29T13:52:49.074433",
   "version": "2.3.3"
  }
 },
 "nbformat": 4,
 "nbformat_minor": 5
}
